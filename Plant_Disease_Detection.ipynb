{
  "cells": [
    {
      "cell_type": "markdown",
      "metadata": {
        "id": "FiKe2JB5p6pY"
      },
      "source": [
        "# Plant Disease Detection"
      ]
    },
    {
      "cell_type": "code",
      "execution_count": null,
      "metadata": {
        "colab": {
          "base_uri": "https://localhost:8080/"
        },
        "id": "dcUwOlLDok6n",
        "outputId": "e676a04b-b74d-46b2-dffb-6d76ff07909b"
      },
      "outputs": [
        {
          "name": "stdout",
          "output_type": "stream",
          "text": [
            "\u001b[2K   \u001b[90m━━━━━━━━━━━━━━━━━━━━━━━━━━━━━━━━━━━━━━━━\u001b[0m \u001b[32m921.5/921.5 kB\u001b[0m \u001b[31m22.2 MB/s\u001b[0m eta \u001b[36m0:00:00\u001b[0m\n",
            "\u001b[2K   \u001b[90m━━━━━━━━━━━━━━━━━━━━━━━━━━━━━━━━━━━━━━━━\u001b[0m \u001b[32m363.4/363.4 MB\u001b[0m \u001b[31m4.3 MB/s\u001b[0m eta \u001b[36m0:00:00\u001b[0m\n",
            "\u001b[2K   \u001b[90m━━━━━━━━━━━━━━━━━━━━━━━━━━━━━━━━━━━━━━━━\u001b[0m \u001b[32m13.8/13.8 MB\u001b[0m \u001b[31m74.2 MB/s\u001b[0m eta \u001b[36m0:00:00\u001b[0m\n",
            "\u001b[2K   \u001b[90m━━━━━━━━━━━━━━━━━━━━━━━━━━━━━━━━━━━━━━━━\u001b[0m \u001b[32m24.6/24.6 MB\u001b[0m \u001b[31m62.3 MB/s\u001b[0m eta \u001b[36m0:00:00\u001b[0m\n",
            "\u001b[2K   \u001b[90m━━━━━━━━━━━━━━━━━━━━━━━━━━━━━━━━━━━━━━━━\u001b[0m \u001b[32m883.7/883.7 kB\u001b[0m \u001b[31m33.1 MB/s\u001b[0m eta \u001b[36m0:00:00\u001b[0m\n",
            "\u001b[2K   \u001b[90m━━━━━━━━━━━━━━━━━━━━━━━━━━━━━━━━━━━━━━━━\u001b[0m \u001b[32m664.8/664.8 MB\u001b[0m \u001b[31m2.8 MB/s\u001b[0m eta \u001b[36m0:00:00\u001b[0m\n",
            "\u001b[2K   \u001b[90m━━━━━━━━━━━━━━━━━━━━━━━━━━━━━━━━━━━━━━━━\u001b[0m \u001b[32m211.5/211.5 MB\u001b[0m \u001b[31m5.5 MB/s\u001b[0m eta \u001b[36m0:00:00\u001b[0m\n",
            "\u001b[2K   \u001b[90m━━━━━━━━━━━━━━━━━━━━━━━━━━━━━━━━━━━━━━━━\u001b[0m \u001b[32m56.3/56.3 MB\u001b[0m \u001b[31m25.9 MB/s\u001b[0m eta \u001b[36m0:00:00\u001b[0m\n",
            "\u001b[2K   \u001b[90m━━━━━━━━━━━━━━━━━━━━━━━━━━━━━━━━━━━━━━━━\u001b[0m \u001b[32m127.9/127.9 MB\u001b[0m \u001b[31m7.0 MB/s\u001b[0m eta \u001b[36m0:00:00\u001b[0m\n",
            "\u001b[2K   \u001b[90m━━━━━━━━━━━━━━━━━━━━━━━━━━━━━━━━━━━━━━━━\u001b[0m \u001b[32m207.5/207.5 MB\u001b[0m \u001b[31m4.5 MB/s\u001b[0m eta \u001b[36m0:00:00\u001b[0m\n",
            "\u001b[2K   \u001b[90m━━━━━━━━━━━━━━━━━━━━━━━━━━━━━━━━━━━━━━━━\u001b[0m \u001b[32m21.1/21.1 MB\u001b[0m \u001b[31m63.3 MB/s\u001b[0m eta \u001b[36m0:00:00\u001b[0m\n",
            "\u001b[?25h"
          ]
        }
      ],
      "source": [
        "!pip install ultralytics -q\n",
        "!pip install kagglehub -q"
      ]
    },
    {
      "cell_type": "code",
      "execution_count": null,
      "metadata": {
        "colab": {
          "base_uri": "https://localhost:8080/"
        },
        "id": "_mkjytJtpNWc",
        "outputId": "8de062de-1977-43ff-8d2f-1798cd0d2c0a"
      },
      "outputs": [
        {
          "name": "stdout",
          "output_type": "stream",
          "text": [
            "Creating new Ultralytics Settings v0.0.6 file ✅ \n",
            "View Ultralytics Settings with 'yolo settings' or at '/root/.config/Ultralytics/settings.json'\n",
            "Update Settings with 'yolo settings key=value', i.e. 'yolo settings runs_dir=path/to/dir'. For help see https://docs.ultralytics.com/quickstart/#ultralytics-settings.\n"
          ]
        }
      ],
      "source": [
        "from ultralytics import YOLO\n",
        "import kagglehub\n",
        "import os"
      ]
    },
    {
      "cell_type": "markdown",
      "metadata": {
        "id": "YmTS_mZMrgIW"
      },
      "source": [
        "## Preparing the dataset"
      ]
    },
    {
      "cell_type": "code",
      "execution_count": null,
      "metadata": {
        "colab": {
          "base_uri": "https://localhost:8080/"
        },
        "id": "4kKU1A7grN1V",
        "outputId": "a6da3e7e-4c4b-4c84-d849-440d1f9bbbd9"
      },
      "outputs": [
        {
          "name": "stdout",
          "output_type": "stream",
          "text": [
            "Cloning into 'PlantVillage-Dataset'...\n",
            "remote: Enumerating objects: 204, done.\u001b[K\n",
            "remote: Counting objects: 100% (204/204), done.\u001b[K\n",
            "remote: Compressing objects: 100% (167/167), done.\u001b[K\n",
            "remote: Total 204 (delta 37), reused 202 (delta 37), pack-reused 0 (from 0)\u001b[K\n",
            "Receiving objects: 100% (204/204), 7.48 MiB | 27.34 MiB/s, done.\n",
            "Resolving deltas: 100% (37/37), done.\n",
            "remote: Enumerating objects: 40, done.\u001b[K\n",
            "remote: Counting objects: 100% (40/40), done.\u001b[K\n",
            "remote: Compressing objects: 100% (11/11), done.\u001b[K\n",
            "remote: Total 40 (delta 28), reused 39 (delta 28), pack-reused 0 (from 0)\u001b[K\n",
            "Receiving objects: 100% (40/40), 276.64 KiB | 4.07 MiB/s, done.\n",
            "Resolving deltas: 100% (28/28), done.\n",
            "/content/PlantVillage-Dataset\n",
            "remote: Enumerating objects: 54284, done.\u001b[K\n",
            "remote: Counting objects: 100% (54284/54284), done.\u001b[K\n",
            "remote: Compressing objects: 100% (54284/54284), done.\u001b[K\n",
            "remote: Total 54284 (delta 0), reused 54284 (delta 0), pack-reused 0 (from 0)\u001b[K\n",
            "Receiving objects: 100% (54284/54284), 766.07 MiB | 38.92 MiB/s, done.\n",
            "Updating files: 100% (54345/54345), done.\n"
          ]
        }
      ],
      "source": [
        "!git clone --depth 1 --filter=blob:none --sparse https://github.com/spMohanty/PlantVillage-Dataset.git\n",
        "%cd PlantVillage-Dataset\n",
        "!git sparse-checkout set raw/grayscale"
      ]
    },
    {
      "cell_type": "code",
      "execution_count": null,
      "metadata": {
        "colab": {
          "base_uri": "https://localhost:8080/"
        },
        "id": "T8v5XcLSzde7",
        "outputId": "9c06ba97-303d-40bd-dc64-5d38515a5af7"
      },
      "outputs": [
        {
          "name": "stdout",
          "output_type": "stream",
          "text": [
            "Dataset successfully split into train, val, and test sets!\n"
          ]
        }
      ],
      "source": [
        "import os\n",
        "import shutil\n",
        "import random\n",
        "\n",
        "random.seed(50)\n",
        "\n",
        "# Define paths\n",
        "dataset_path = \"raw/grayscale\"  # Original dataset\n",
        "output_path = \"PlantVillage\"  # New organized dataset\n",
        "\n",
        "# Train, Validation, Test split ratios\n",
        "train_ratio = 0.7\n",
        "val_ratio = 0.2\n",
        "test_ratio = 0.1\n",
        "\n",
        "# Ensure output directories exist\n",
        "for split in [\"train\", \"val\", \"test\"]:\n",
        "    os.makedirs(os.path.join(output_path, split), exist_ok=True)\n",
        "\n",
        "# Split dataset\n",
        "for class_name in os.listdir(dataset_path):\n",
        "    class_path = os.path.join(dataset_path, class_name)\n",
        "    if not os.path.isdir(class_path):\n",
        "        continue\n",
        "\n",
        "    images = os.listdir(class_path)\n",
        "    images = images[:500]\n",
        "    random.shuffle(images)\n",
        "\n",
        "    train_split = int(len(images) * train_ratio)\n",
        "    val_split = int(len(images) * (train_ratio + val_ratio))\n",
        "\n",
        "    subsets = {\n",
        "        \"train\": images[:train_split],\n",
        "        \"val\": images[train_split:val_split],\n",
        "        \"test\": images[val_split:]\n",
        "    }\n",
        "\n",
        "    for split, files in subsets.items():\n",
        "        split_class_path = os.path.join(output_path, split, class_name)\n",
        "        os.makedirs(split_class_path, exist_ok=True)\n",
        "\n",
        "        for file in files:\n",
        "            shutil.move(os.path.join(class_path, file), os.path.join(split_class_path, file))\n",
        "\n",
        "# Remove the old dataset folder after splitting\n",
        "# shutil.rmtree(dataset_path)\n",
        "\n",
        "print(\"Dataset successfully split into train, val, and test sets!\")\n"
      ]
    },
    {
      "cell_type": "code",
      "execution_count": null,
      "metadata": {
        "colab": {
          "base_uri": "https://localhost:8080/"
        },
        "id": "Gyu0_jV_vQaA",
        "outputId": "8d9e5be0-4061-468a-c3a8-2c1be8780020"
      },
      "outputs": [
        {
          "name": "stdout",
          "output_type": "stream",
          "text": [
            "PlantVillage\n"
          ]
        }
      ],
      "source": [
        "print(output_path)"
      ]
    },
    {
      "cell_type": "markdown",
      "metadata": {
        "id": "mX9syLMqp4Gl"
      },
      "source": [
        "## Training"
      ]
    },
    {
      "cell_type": "code",
      "execution_count": null,
      "metadata": {
        "colab": {
          "base_uri": "https://localhost:8080/"
        },
        "id": "ZuyJ5Tmdp1dq",
        "outputId": "495fb2dc-1208-4cff-dcc0-460fdf15694b"
      },
      "outputs": [
        {
          "name": "stdout",
          "output_type": "stream",
          "text": [
            "YOLO11n-cls summary: 86 layers, 1,633,584 parameters, 1,633,584 gradients, 3.3 GFLOPs\n"
          ]
        }
      ],
      "source": [
        "# Load a model\n",
        "model = YOLO(\"yolo11n-cls.yaml\")  # build a new model from YAML"
      ]
    },
    {
      "cell_type": "code",
      "execution_count": null,
      "metadata": {
        "colab": {
          "base_uri": "https://localhost:8080/"
        },
        "id": "N1xxi3rCpUH4",
        "outputId": "beec757d-de22-496f-fb0d-dec9bbbdedce"
      },
      "outputs": [
        {
          "name": "stdout",
          "output_type": "stream",
          "text": [
            "Ultralytics 8.3.78 🚀 Python-3.11.11 torch-2.5.1+cu124 CUDA:0 (Tesla T4, 15095MiB)\n",
            "\u001b[34m\u001b[1mengine/trainer: \u001b[0mtask=classify, mode=train, model=yolo11n-cls.yaml, data=PlantVillage, epochs=100, time=None, patience=100, batch=16, imgsz=256, save=True, save_period=-1, cache=False, device=cuda, workers=8, project=None, name=train, exist_ok=False, pretrained=True, optimizer=auto, verbose=True, seed=0, deterministic=True, single_cls=False, rect=False, cos_lr=False, close_mosaic=10, resume=False, amp=True, fraction=1.0, profile=False, freeze=None, multi_scale=False, overlap_mask=True, mask_ratio=4, dropout=0.0, val=True, split=val, save_json=False, save_hybrid=False, conf=None, iou=0.7, max_det=300, half=False, dnn=False, plots=True, source=None, vid_stride=1, stream_buffer=False, visualize=False, augment=False, agnostic_nms=False, classes=None, retina_masks=False, embed=None, show=False, save_frames=False, save_txt=False, save_conf=False, save_crop=False, show_labels=True, show_conf=True, show_boxes=True, line_width=None, format=torchscript, keras=False, optimize=False, int8=False, dynamic=False, simplify=True, opset=None, workspace=None, nms=False, lr0=0.01, lrf=0.01, momentum=0.937, weight_decay=0.0005, warmup_epochs=3.0, warmup_momentum=0.8, warmup_bias_lr=0.1, box=7.5, cls=0.5, dfl=1.5, pose=12.0, kobj=1.0, nbs=64, hsv_h=0.015, hsv_s=0.7, hsv_v=0.4, degrees=0.0, translate=0.1, scale=0.5, shear=0.0, perspective=0.0, flipud=0.0, fliplr=0.5, bgr=0.0, mosaic=1.0, mixup=0.0, copy_paste=0.0, copy_paste_mode=flip, auto_augment=randaugment, erasing=0.4, crop_fraction=1.0, cfg=None, tracker=botsort.yaml, save_dir=runs/classify/train\n",
            "\u001b[34m\u001b[1mtrain:\u001b[0m /content/PlantVillage-Dataset/PlantVillage/train... found 12534 images in 38 classes ✅ \n",
            "\u001b[34m\u001b[1mval:\u001b[0m /content/PlantVillage-Dataset/PlantVillage/val... found 3549 images in 38 classes ✅ \n",
            "\u001b[34m\u001b[1mtest:\u001b[0m /content/PlantVillage-Dataset/PlantVillage/test... found 1827 images in 38 classes ✅ \n",
            "Overriding model.yaml nc=80 with nc=38\n",
            "\n",
            "                   from  n    params  module                                       arguments                     \n",
            "  0                  -1  1       464  ultralytics.nn.modules.conv.Conv             [3, 16, 3, 2]                 \n",
            "  1                  -1  1      4672  ultralytics.nn.modules.conv.Conv             [16, 32, 3, 2]                \n",
            "  2                  -1  1      6640  ultralytics.nn.modules.block.C3k2            [32, 64, 1, False, 0.25]      \n",
            "  3                  -1  1     36992  ultralytics.nn.modules.conv.Conv             [64, 64, 3, 2]                \n",
            "  4                  -1  1     26080  ultralytics.nn.modules.block.C3k2            [64, 128, 1, False, 0.25]     \n",
            "  5                  -1  1    147712  ultralytics.nn.modules.conv.Conv             [128, 128, 3, 2]              \n",
            "  6                  -1  1     87040  ultralytics.nn.modules.block.C3k2            [128, 128, 1, True]           \n",
            "  7                  -1  1    295424  ultralytics.nn.modules.conv.Conv             [128, 256, 3, 2]              \n",
            "  8                  -1  1    346112  ultralytics.nn.modules.block.C3k2            [256, 256, 1, True]           \n",
            "  9                  -1  1    249728  ultralytics.nn.modules.block.C2PSA           [256, 256, 1]                 \n",
            " 10                  -1  1    378918  ultralytics.nn.modules.head.Classify         [256, 38]                     \n",
            "YOLO11n-cls summary: 86 layers, 1,579,782 parameters, 1,579,782 gradients, 3.3 GFLOPs\n",
            "\u001b[34m\u001b[1mTensorBoard: \u001b[0mStart with 'tensorboard --logdir runs/classify/train', view at http://localhost:6006/\n",
            "\u001b[34m\u001b[1mAMP: \u001b[0mrunning Automatic Mixed Precision (AMP) checks...\n",
            "Downloading https://github.com/ultralytics/assets/releases/download/v8.3.0/yolo11n.pt to 'yolo11n.pt'...\n"
          ]
        },
        {
          "name": "stderr",
          "output_type": "stream",
          "text": [
            "100%|██████████| 5.35M/5.35M [00:00<00:00, 89.5MB/s]\n"
          ]
        },
        {
          "name": "stdout",
          "output_type": "stream",
          "text": [
            "\u001b[34m\u001b[1mAMP: \u001b[0mchecks passed ✅\n"
          ]
        },
        {
          "name": "stderr",
          "output_type": "stream",
          "text": [
            "\u001b[34m\u001b[1mtrain: \u001b[0mScanning /content/PlantVillage-Dataset/PlantVillage/train... 12534 images, 0 corrupt: 100%|██████████| 12534/12534 [00:02<00:00, 5441.20it/s]\n"
          ]
        },
        {
          "name": "stdout",
          "output_type": "stream",
          "text": [
            "\u001b[34m\u001b[1mtrain: \u001b[0mNew cache created: /content/PlantVillage-Dataset/PlantVillage/train.cache\n"
          ]
        },
        {
          "name": "stderr",
          "output_type": "stream",
          "text": [
            "\u001b[34m\u001b[1mval: \u001b[0mScanning /content/PlantVillage-Dataset/PlantVillage/val... 3549 images, 0 corrupt: 100%|██████████| 3549/3549 [00:01<00:00, 2908.67it/s]\n"
          ]
        },
        {
          "name": "stdout",
          "output_type": "stream",
          "text": [
            "\u001b[34m\u001b[1mval: \u001b[0mNew cache created: /content/PlantVillage-Dataset/PlantVillage/val.cache\n",
            "\u001b[34m\u001b[1moptimizer:\u001b[0m 'optimizer=auto' found, ignoring 'lr0=0.01' and 'momentum=0.937' and determining best 'optimizer', 'lr0' and 'momentum' automatically... \n",
            "\u001b[34m\u001b[1moptimizer:\u001b[0m SGD(lr=0.01, momentum=0.9) with parameter groups 39 weight(decay=0.0), 40 weight(decay=0.0005), 40 bias(decay=0.0)\n",
            "\u001b[34m\u001b[1mTensorBoard: \u001b[0mmodel graph visualization added ✅\n",
            "Image sizes 256 train, 256 val\n",
            "Using 2 dataloader workers\n",
            "Logging results to \u001b[1mruns/classify/train\u001b[0m\n",
            "Starting training for 100 epochs...\n",
            "\n",
            "      Epoch    GPU_mem       loss  Instances       Size\n"
          ]
        },
        {
          "name": "stderr",
          "output_type": "stream",
          "text": [
            "      1/100     0.326G      3.638         16        256:   1%|          | 4/784 [00:01<02:39,  4.90it/s]"
          ]
        },
        {
          "name": "stdout",
          "output_type": "stream",
          "text": [
            "Downloading https://ultralytics.com/assets/Arial.ttf to '/root/.config/Ultralytics/Arial.ttf'...\n"
          ]
        },
        {
          "name": "stderr",
          "output_type": "stream",
          "text": [
            "      1/100     0.326G      3.658         16        256:   1%|▏         | 10/784 [00:01<01:29,  8.63it/s]\n",
            "100%|██████████| 755k/755k [00:00<00:00, 18.7MB/s]\n",
            "      1/100     0.328G      3.618          6        256: 100%|██████████| 784/784 [01:38<00:00,  7.98it/s]\n",
            "               classes   top1_acc   top5_acc: 100%|██████████| 111/111 [00:09<00:00, 11.26it/s]"
          ]
        },
        {
          "name": "stdout",
          "output_type": "stream",
          "text": [
            "                   all     0.0955      0.326\n"
          ]
        },
        {
          "name": "stderr",
          "output_type": "stream",
          "text": [
            "\n"
          ]
        },
        {
          "name": "stdout",
          "output_type": "stream",
          "text": [
            "\n",
            "      Epoch    GPU_mem       loss  Instances       Size\n"
          ]
        },
        {
          "name": "stderr",
          "output_type": "stream",
          "text": [
            "      2/100     0.293G      3.057          6        256: 100%|██████████| 784/784 [01:35<00:00,  8.19it/s]\n",
            "               classes   top1_acc   top5_acc: 100%|██████████| 111/111 [00:09<00:00, 11.73it/s]"
          ]
        },
        {
          "name": "stdout",
          "output_type": "stream",
          "text": [
            "                   all      0.291      0.665\n"
          ]
        },
        {
          "name": "stderr",
          "output_type": "stream",
          "text": [
            "\n"
          ]
        },
        {
          "name": "stdout",
          "output_type": "stream",
          "text": [
            "\n",
            "      Epoch    GPU_mem       loss  Instances       Size\n"
          ]
        },
        {
          "name": "stderr",
          "output_type": "stream",
          "text": [
            "      3/100     0.291G      2.341          6        256: 100%|██████████| 784/784 [01:33<00:00,  8.35it/s]\n",
            "               classes   top1_acc   top5_acc: 100%|██████████| 111/111 [00:09<00:00, 11.25it/s]"
          ]
        },
        {
          "name": "stdout",
          "output_type": "stream",
          "text": [
            "                   all      0.383      0.799\n"
          ]
        },
        {
          "name": "stderr",
          "output_type": "stream",
          "text": [
            "\n"
          ]
        },
        {
          "name": "stdout",
          "output_type": "stream",
          "text": [
            "\n",
            "      Epoch    GPU_mem       loss  Instances       Size\n"
          ]
        },
        {
          "name": "stderr",
          "output_type": "stream",
          "text": [
            "      4/100     0.293G      1.907          6        256: 100%|██████████| 784/784 [01:33<00:00,  8.41it/s]\n",
            "               classes   top1_acc   top5_acc: 100%|██████████| 111/111 [00:09<00:00, 11.21it/s]"
          ]
        },
        {
          "name": "stdout",
          "output_type": "stream",
          "text": [
            "                   all      0.573      0.911\n"
          ]
        },
        {
          "name": "stderr",
          "output_type": "stream",
          "text": [
            "\n"
          ]
        },
        {
          "name": "stdout",
          "output_type": "stream",
          "text": [
            "\n",
            "      Epoch    GPU_mem       loss  Instances       Size\n"
          ]
        },
        {
          "name": "stderr",
          "output_type": "stream",
          "text": [
            "      5/100     0.291G       1.56          6        256: 100%|██████████| 784/784 [01:32<00:00,  8.44it/s]\n",
            "               classes   top1_acc   top5_acc: 100%|██████████| 111/111 [00:09<00:00, 11.13it/s]"
          ]
        },
        {
          "name": "stdout",
          "output_type": "stream",
          "text": [
            "                   all      0.653      0.944\n"
          ]
        },
        {
          "name": "stderr",
          "output_type": "stream",
          "text": [
            "\n"
          ]
        },
        {
          "name": "stdout",
          "output_type": "stream",
          "text": [
            "\n",
            "      Epoch    GPU_mem       loss  Instances       Size\n"
          ]
        },
        {
          "name": "stderr",
          "output_type": "stream",
          "text": [
            "      6/100     0.293G      1.347          6        256: 100%|██████████| 784/784 [01:33<00:00,  8.38it/s]\n",
            "               classes   top1_acc   top5_acc: 100%|██████████| 111/111 [00:09<00:00, 11.21it/s]"
          ]
        },
        {
          "name": "stdout",
          "output_type": "stream",
          "text": [
            "                   all      0.691      0.963\n"
          ]
        },
        {
          "name": "stderr",
          "output_type": "stream",
          "text": [
            "\n"
          ]
        },
        {
          "name": "stdout",
          "output_type": "stream",
          "text": [
            "\n",
            "      Epoch    GPU_mem       loss  Instances       Size\n"
          ]
        },
        {
          "name": "stderr",
          "output_type": "stream",
          "text": [
            "      7/100     0.299G      1.202          6        256: 100%|██████████| 784/784 [01:33<00:00,  8.37it/s]\n",
            "               classes   top1_acc   top5_acc: 100%|██████████| 111/111 [00:09<00:00, 11.11it/s]"
          ]
        },
        {
          "name": "stdout",
          "output_type": "stream",
          "text": [
            "                   all      0.727       0.97\n"
          ]
        },
        {
          "name": "stderr",
          "output_type": "stream",
          "text": [
            "\n"
          ]
        },
        {
          "name": "stdout",
          "output_type": "stream",
          "text": [
            "\n",
            "      Epoch    GPU_mem       loss  Instances       Size\n"
          ]
        },
        {
          "name": "stderr",
          "output_type": "stream",
          "text": [
            "      8/100     0.295G      1.083          6        256: 100%|██████████| 784/784 [01:34<00:00,  8.33it/s]\n",
            "               classes   top1_acc   top5_acc: 100%|██████████| 111/111 [00:09<00:00, 11.43it/s]"
          ]
        },
        {
          "name": "stdout",
          "output_type": "stream",
          "text": [
            "                   all      0.795      0.983\n"
          ]
        },
        {
          "name": "stderr",
          "output_type": "stream",
          "text": [
            "\n"
          ]
        },
        {
          "name": "stdout",
          "output_type": "stream",
          "text": [
            "\n",
            "      Epoch    GPU_mem       loss  Instances       Size\n"
          ]
        },
        {
          "name": "stderr",
          "output_type": "stream",
          "text": [
            "      9/100     0.287G     0.9915          6        256: 100%|██████████| 784/784 [01:34<00:00,  8.27it/s]\n",
            "               classes   top1_acc   top5_acc: 100%|██████████| 111/111 [00:08<00:00, 12.49it/s]"
          ]
        },
        {
          "name": "stdout",
          "output_type": "stream",
          "text": [
            "                   all      0.794      0.982\n"
          ]
        },
        {
          "name": "stderr",
          "output_type": "stream",
          "text": [
            "\n"
          ]
        },
        {
          "name": "stdout",
          "output_type": "stream",
          "text": [
            "\n",
            "      Epoch    GPU_mem       loss  Instances       Size\n"
          ]
        },
        {
          "name": "stderr",
          "output_type": "stream",
          "text": [
            "     10/100     0.295G     0.9107          6        256: 100%|██████████| 784/784 [01:34<00:00,  8.31it/s]\n",
            "               classes   top1_acc   top5_acc: 100%|██████████| 111/111 [00:08<00:00, 12.54it/s]"
          ]
        },
        {
          "name": "stdout",
          "output_type": "stream",
          "text": [
            "                   all      0.791      0.979\n"
          ]
        },
        {
          "name": "stderr",
          "output_type": "stream",
          "text": [
            "\n"
          ]
        },
        {
          "name": "stdout",
          "output_type": "stream",
          "text": [
            "\n",
            "      Epoch    GPU_mem       loss  Instances       Size\n"
          ]
        },
        {
          "name": "stderr",
          "output_type": "stream",
          "text": [
            "     11/100     0.295G     0.8794          6        256: 100%|██████████| 784/784 [01:33<00:00,  8.37it/s]\n",
            "               classes   top1_acc   top5_acc: 100%|██████████| 111/111 [00:08<00:00, 12.50it/s]"
          ]
        },
        {
          "name": "stdout",
          "output_type": "stream",
          "text": [
            "                   all      0.799      0.982\n"
          ]
        },
        {
          "name": "stderr",
          "output_type": "stream",
          "text": [
            "\n"
          ]
        },
        {
          "name": "stdout",
          "output_type": "stream",
          "text": [
            "\n",
            "      Epoch    GPU_mem       loss  Instances       Size\n"
          ]
        },
        {
          "name": "stderr",
          "output_type": "stream",
          "text": [
            "     12/100     0.295G      0.808          6        256: 100%|██████████| 784/784 [01:34<00:00,  8.33it/s]\n",
            "               classes   top1_acc   top5_acc: 100%|██████████| 111/111 [00:09<00:00, 12.05it/s]"
          ]
        },
        {
          "name": "stdout",
          "output_type": "stream",
          "text": [
            "                   all      0.815      0.984\n"
          ]
        },
        {
          "name": "stderr",
          "output_type": "stream",
          "text": [
            "\n"
          ]
        },
        {
          "name": "stdout",
          "output_type": "stream",
          "text": [
            "\n",
            "      Epoch    GPU_mem       loss  Instances       Size\n"
          ]
        },
        {
          "name": "stderr",
          "output_type": "stream",
          "text": [
            "     13/100     0.287G     0.7693          6        256: 100%|██████████| 784/784 [01:34<00:00,  8.34it/s]\n",
            "               classes   top1_acc   top5_acc: 100%|██████████| 111/111 [00:10<00:00, 11.06it/s]"
          ]
        },
        {
          "name": "stdout",
          "output_type": "stream",
          "text": [
            "                   all      0.841      0.986\n"
          ]
        },
        {
          "name": "stderr",
          "output_type": "stream",
          "text": [
            "\n"
          ]
        },
        {
          "name": "stdout",
          "output_type": "stream",
          "text": [
            "\n",
            "      Epoch    GPU_mem       loss  Instances       Size\n"
          ]
        },
        {
          "name": "stderr",
          "output_type": "stream",
          "text": [
            "     14/100     0.299G     0.7386          6        256: 100%|██████████| 784/784 [01:33<00:00,  8.40it/s]\n",
            "               classes   top1_acc   top5_acc: 100%|██████████| 111/111 [00:09<00:00, 11.17it/s]"
          ]
        },
        {
          "name": "stdout",
          "output_type": "stream",
          "text": [
            "                   all      0.847      0.988\n"
          ]
        },
        {
          "name": "stderr",
          "output_type": "stream",
          "text": [
            "\n"
          ]
        },
        {
          "name": "stdout",
          "output_type": "stream",
          "text": [
            "\n",
            "      Epoch    GPU_mem       loss  Instances       Size\n"
          ]
        },
        {
          "name": "stderr",
          "output_type": "stream",
          "text": [
            "     15/100     0.293G     0.7178          6        256: 100%|██████████| 784/784 [01:32<00:00,  8.48it/s]\n",
            "               classes   top1_acc   top5_acc: 100%|██████████| 111/111 [00:09<00:00, 11.48it/s]"
          ]
        },
        {
          "name": "stdout",
          "output_type": "stream",
          "text": [
            "                   all      0.848      0.989\n"
          ]
        },
        {
          "name": "stderr",
          "output_type": "stream",
          "text": [
            "\n"
          ]
        },
        {
          "name": "stdout",
          "output_type": "stream",
          "text": [
            "\n",
            "      Epoch    GPU_mem       loss  Instances       Size\n"
          ]
        },
        {
          "name": "stderr",
          "output_type": "stream",
          "text": [
            "     16/100     0.301G     0.7007          6        256: 100%|██████████| 784/784 [01:32<00:00,  8.48it/s]\n",
            "               classes   top1_acc   top5_acc: 100%|██████████| 111/111 [00:09<00:00, 11.36it/s]"
          ]
        },
        {
          "name": "stdout",
          "output_type": "stream",
          "text": [
            "                   all      0.861      0.991\n"
          ]
        },
        {
          "name": "stderr",
          "output_type": "stream",
          "text": [
            "\n"
          ]
        },
        {
          "name": "stdout",
          "output_type": "stream",
          "text": [
            "\n",
            "      Epoch    GPU_mem       loss  Instances       Size\n"
          ]
        },
        {
          "name": "stderr",
          "output_type": "stream",
          "text": [
            "     17/100     0.299G     0.6527          6        256: 100%|██████████| 784/784 [01:33<00:00,  8.34it/s]\n",
            "               classes   top1_acc   top5_acc: 100%|██████████| 111/111 [00:09<00:00, 11.39it/s]\n"
          ]
        },
        {
          "name": "stdout",
          "output_type": "stream",
          "text": [
            "                   all      0.869      0.991\n",
            "\n",
            "      Epoch    GPU_mem       loss  Instances       Size\n"
          ]
        },
        {
          "name": "stderr",
          "output_type": "stream",
          "text": [
            "     18/100     0.293G     0.6226          6        256: 100%|██████████| 784/784 [01:31<00:00,  8.55it/s]\n",
            "               classes   top1_acc   top5_acc: 100%|██████████| 111/111 [00:09<00:00, 11.27it/s]"
          ]
        },
        {
          "name": "stdout",
          "output_type": "stream",
          "text": [
            "                   all      0.865      0.992\n"
          ]
        },
        {
          "name": "stderr",
          "output_type": "stream",
          "text": [
            "\n"
          ]
        },
        {
          "name": "stdout",
          "output_type": "stream",
          "text": [
            "\n",
            "      Epoch    GPU_mem       loss  Instances       Size\n"
          ]
        },
        {
          "name": "stderr",
          "output_type": "stream",
          "text": [
            "     19/100     0.299G     0.6096          6        256: 100%|██████████| 784/784 [01:32<00:00,  8.47it/s]\n",
            "               classes   top1_acc   top5_acc: 100%|██████████| 111/111 [00:09<00:00, 11.37it/s]"
          ]
        },
        {
          "name": "stdout",
          "output_type": "stream",
          "text": [
            "                   all      0.872       0.99\n"
          ]
        },
        {
          "name": "stderr",
          "output_type": "stream",
          "text": [
            "\n"
          ]
        },
        {
          "name": "stdout",
          "output_type": "stream",
          "text": [
            "\n",
            "      Epoch    GPU_mem       loss  Instances       Size\n"
          ]
        },
        {
          "name": "stderr",
          "output_type": "stream",
          "text": [
            "     20/100     0.295G     0.5975          6        256: 100%|██████████| 784/784 [01:31<00:00,  8.53it/s]\n",
            "               classes   top1_acc   top5_acc: 100%|██████████| 111/111 [00:09<00:00, 11.48it/s]"
          ]
        },
        {
          "name": "stdout",
          "output_type": "stream",
          "text": [
            "                   all      0.879      0.993\n"
          ]
        },
        {
          "name": "stderr",
          "output_type": "stream",
          "text": [
            "\n"
          ]
        },
        {
          "name": "stdout",
          "output_type": "stream",
          "text": [
            "\n",
            "      Epoch    GPU_mem       loss  Instances       Size\n"
          ]
        },
        {
          "name": "stderr",
          "output_type": "stream",
          "text": [
            "     21/100     0.295G      0.563          6        256: 100%|██████████| 784/784 [01:32<00:00,  8.48it/s]\n",
            "               classes   top1_acc   top5_acc: 100%|██████████| 111/111 [00:09<00:00, 11.49it/s]"
          ]
        },
        {
          "name": "stdout",
          "output_type": "stream",
          "text": [
            "                   all      0.878      0.995\n"
          ]
        },
        {
          "name": "stderr",
          "output_type": "stream",
          "text": [
            "\n"
          ]
        },
        {
          "name": "stdout",
          "output_type": "stream",
          "text": [
            "\n",
            "      Epoch    GPU_mem       loss  Instances       Size\n"
          ]
        },
        {
          "name": "stderr",
          "output_type": "stream",
          "text": [
            "     22/100     0.287G     0.5626          6        256: 100%|██████████| 784/784 [01:32<00:00,  8.50it/s]\n",
            "               classes   top1_acc   top5_acc: 100%|██████████| 111/111 [00:09<00:00, 11.58it/s]"
          ]
        },
        {
          "name": "stdout",
          "output_type": "stream",
          "text": [
            "                   all      0.891      0.994\n"
          ]
        },
        {
          "name": "stderr",
          "output_type": "stream",
          "text": [
            "\n"
          ]
        },
        {
          "name": "stdout",
          "output_type": "stream",
          "text": [
            "\n",
            "      Epoch    GPU_mem       loss  Instances       Size\n"
          ]
        },
        {
          "name": "stderr",
          "output_type": "stream",
          "text": [
            "     23/100     0.295G     0.5395          6        256: 100%|██████████| 784/784 [01:31<00:00,  8.54it/s]\n",
            "               classes   top1_acc   top5_acc: 100%|██████████| 111/111 [00:09<00:00, 11.48it/s]"
          ]
        },
        {
          "name": "stdout",
          "output_type": "stream",
          "text": [
            "                   all      0.886      0.996\n"
          ]
        },
        {
          "name": "stderr",
          "output_type": "stream",
          "text": [
            "\n"
          ]
        },
        {
          "name": "stdout",
          "output_type": "stream",
          "text": [
            "\n",
            "      Epoch    GPU_mem       loss  Instances       Size\n"
          ]
        },
        {
          "name": "stderr",
          "output_type": "stream",
          "text": [
            "     24/100     0.295G     0.5319          6        256: 100%|██████████| 784/784 [01:32<00:00,  8.50it/s]\n",
            "               classes   top1_acc   top5_acc: 100%|██████████| 111/111 [00:09<00:00, 11.64it/s]"
          ]
        },
        {
          "name": "stdout",
          "output_type": "stream",
          "text": [
            "                   all      0.895      0.995\n"
          ]
        },
        {
          "name": "stderr",
          "output_type": "stream",
          "text": [
            "\n"
          ]
        },
        {
          "name": "stdout",
          "output_type": "stream",
          "text": [
            "\n",
            "      Epoch    GPU_mem       loss  Instances       Size\n"
          ]
        },
        {
          "name": "stderr",
          "output_type": "stream",
          "text": [
            "     25/100     0.287G     0.5071          6        256: 100%|██████████| 784/784 [01:31<00:00,  8.55it/s]\n",
            "               classes   top1_acc   top5_acc: 100%|██████████| 111/111 [00:09<00:00, 11.69it/s]"
          ]
        },
        {
          "name": "stdout",
          "output_type": "stream",
          "text": [
            "                   all      0.892      0.996\n"
          ]
        },
        {
          "name": "stderr",
          "output_type": "stream",
          "text": [
            "\n"
          ]
        },
        {
          "name": "stdout",
          "output_type": "stream",
          "text": [
            "\n",
            "      Epoch    GPU_mem       loss  Instances       Size\n"
          ]
        },
        {
          "name": "stderr",
          "output_type": "stream",
          "text": [
            "     26/100     0.295G     0.5007          6        256: 100%|██████████| 784/784 [01:32<00:00,  8.52it/s]\n",
            "               classes   top1_acc   top5_acc: 100%|██████████| 111/111 [00:09<00:00, 11.48it/s]"
          ]
        },
        {
          "name": "stdout",
          "output_type": "stream",
          "text": [
            "                   all      0.895      0.994\n"
          ]
        },
        {
          "name": "stderr",
          "output_type": "stream",
          "text": [
            "\n"
          ]
        },
        {
          "name": "stdout",
          "output_type": "stream",
          "text": [
            "\n",
            "      Epoch    GPU_mem       loss  Instances       Size\n"
          ]
        },
        {
          "name": "stderr",
          "output_type": "stream",
          "text": [
            "     27/100     0.295G     0.4912          6        256: 100%|██████████| 784/784 [01:31<00:00,  8.54it/s]\n",
            "               classes   top1_acc   top5_acc: 100%|██████████| 111/111 [00:09<00:00, 11.55it/s]"
          ]
        },
        {
          "name": "stdout",
          "output_type": "stream",
          "text": [
            "                   all      0.899      0.994\n"
          ]
        },
        {
          "name": "stderr",
          "output_type": "stream",
          "text": [
            "\n"
          ]
        },
        {
          "name": "stdout",
          "output_type": "stream",
          "text": [
            "\n",
            "      Epoch    GPU_mem       loss  Instances       Size\n"
          ]
        },
        {
          "name": "stderr",
          "output_type": "stream",
          "text": [
            "     28/100     0.287G     0.4747          6        256: 100%|██████████| 784/784 [01:32<00:00,  8.49it/s]\n",
            "               classes   top1_acc   top5_acc: 100%|██████████| 111/111 [00:09<00:00, 11.27it/s]"
          ]
        },
        {
          "name": "stdout",
          "output_type": "stream",
          "text": [
            "                   all      0.899      0.996\n"
          ]
        },
        {
          "name": "stderr",
          "output_type": "stream",
          "text": [
            "\n"
          ]
        },
        {
          "name": "stdout",
          "output_type": "stream",
          "text": [
            "\n",
            "      Epoch    GPU_mem       loss  Instances       Size\n"
          ]
        },
        {
          "name": "stderr",
          "output_type": "stream",
          "text": [
            "     29/100     0.295G     0.4728          6        256: 100%|██████████| 784/784 [01:32<00:00,  8.47it/s]\n",
            "               classes   top1_acc   top5_acc: 100%|██████████| 111/111 [00:09<00:00, 11.40it/s]"
          ]
        },
        {
          "name": "stdout",
          "output_type": "stream",
          "text": [
            "                   all      0.888      0.995\n"
          ]
        },
        {
          "name": "stderr",
          "output_type": "stream",
          "text": [
            "\n"
          ]
        },
        {
          "name": "stdout",
          "output_type": "stream",
          "text": [
            "\n",
            "      Epoch    GPU_mem       loss  Instances       Size\n"
          ]
        },
        {
          "name": "stderr",
          "output_type": "stream",
          "text": [
            "     30/100     0.295G     0.4537          6        256: 100%|██████████| 784/784 [01:32<00:00,  8.51it/s]\n",
            "               classes   top1_acc   top5_acc: 100%|██████████| 111/111 [00:09<00:00, 11.30it/s]"
          ]
        },
        {
          "name": "stdout",
          "output_type": "stream",
          "text": [
            "                   all      0.906      0.996\n"
          ]
        },
        {
          "name": "stderr",
          "output_type": "stream",
          "text": [
            "\n"
          ]
        },
        {
          "name": "stdout",
          "output_type": "stream",
          "text": [
            "\n",
            "      Epoch    GPU_mem       loss  Instances       Size\n"
          ]
        },
        {
          "name": "stderr",
          "output_type": "stream",
          "text": [
            "     31/100     0.287G     0.4358          6        256: 100%|██████████| 784/784 [01:32<00:00,  8.47it/s]\n",
            "               classes   top1_acc   top5_acc: 100%|██████████| 111/111 [00:09<00:00, 11.40it/s]"
          ]
        },
        {
          "name": "stdout",
          "output_type": "stream",
          "text": [
            "                   all      0.911      0.996\n"
          ]
        },
        {
          "name": "stderr",
          "output_type": "stream",
          "text": [
            "\n"
          ]
        },
        {
          "name": "stdout",
          "output_type": "stream",
          "text": [
            "\n",
            "      Epoch    GPU_mem       loss  Instances       Size\n"
          ]
        },
        {
          "name": "stderr",
          "output_type": "stream",
          "text": [
            "     32/100     0.295G     0.4337          6        256: 100%|██████████| 784/784 [01:31<00:00,  8.54it/s]\n",
            "               classes   top1_acc   top5_acc: 100%|██████████| 111/111 [00:09<00:00, 11.57it/s]"
          ]
        },
        {
          "name": "stdout",
          "output_type": "stream",
          "text": [
            "                   all       0.91      0.995\n"
          ]
        },
        {
          "name": "stderr",
          "output_type": "stream",
          "text": [
            "\n"
          ]
        },
        {
          "name": "stdout",
          "output_type": "stream",
          "text": [
            "\n",
            "      Epoch    GPU_mem       loss  Instances       Size\n"
          ]
        },
        {
          "name": "stderr",
          "output_type": "stream",
          "text": [
            "     33/100     0.295G     0.4408          6        256: 100%|██████████| 784/784 [01:32<00:00,  8.52it/s]\n",
            "               classes   top1_acc   top5_acc: 100%|██████████| 111/111 [00:09<00:00, 11.48it/s]"
          ]
        },
        {
          "name": "stdout",
          "output_type": "stream",
          "text": [
            "                   all      0.919      0.997\n"
          ]
        },
        {
          "name": "stderr",
          "output_type": "stream",
          "text": [
            "\n"
          ]
        },
        {
          "name": "stdout",
          "output_type": "stream",
          "text": [
            "\n",
            "      Epoch    GPU_mem       loss  Instances       Size\n"
          ]
        },
        {
          "name": "stderr",
          "output_type": "stream",
          "text": [
            "     34/100     0.287G     0.4196          6        256: 100%|██████████| 784/784 [01:32<00:00,  8.50it/s]\n",
            "               classes   top1_acc   top5_acc: 100%|██████████| 111/111 [00:09<00:00, 11.40it/s]\n"
          ]
        },
        {
          "name": "stdout",
          "output_type": "stream",
          "text": [
            "                   all      0.908      0.996\n",
            "\n",
            "      Epoch    GPU_mem       loss  Instances       Size\n"
          ]
        },
        {
          "name": "stderr",
          "output_type": "stream",
          "text": [
            "     35/100     0.295G     0.4279          6        256: 100%|██████████| 784/784 [01:31<00:00,  8.57it/s]\n",
            "               classes   top1_acc   top5_acc: 100%|██████████| 111/111 [00:09<00:00, 11.78it/s]"
          ]
        },
        {
          "name": "stdout",
          "output_type": "stream",
          "text": [
            "                   all      0.917      0.997\n"
          ]
        },
        {
          "name": "stderr",
          "output_type": "stream",
          "text": [
            "\n"
          ]
        },
        {
          "name": "stdout",
          "output_type": "stream",
          "text": [
            "\n",
            "      Epoch    GPU_mem       loss  Instances       Size\n"
          ]
        },
        {
          "name": "stderr",
          "output_type": "stream",
          "text": [
            "     36/100     0.295G     0.3952          6        256: 100%|██████████| 784/784 [01:31<00:00,  8.55it/s]\n",
            "               classes   top1_acc   top5_acc: 100%|██████████| 111/111 [00:08<00:00, 12.65it/s]"
          ]
        },
        {
          "name": "stdout",
          "output_type": "stream",
          "text": [
            "                   all      0.914      0.997\n"
          ]
        },
        {
          "name": "stderr",
          "output_type": "stream",
          "text": [
            "\n"
          ]
        },
        {
          "name": "stdout",
          "output_type": "stream",
          "text": [
            "\n",
            "      Epoch    GPU_mem       loss  Instances       Size\n"
          ]
        },
        {
          "name": "stderr",
          "output_type": "stream",
          "text": [
            "     37/100     0.287G     0.3872          6        256: 100%|██████████| 784/784 [01:32<00:00,  8.44it/s]\n",
            "               classes   top1_acc   top5_acc: 100%|██████████| 111/111 [00:08<00:00, 12.39it/s]"
          ]
        },
        {
          "name": "stdout",
          "output_type": "stream",
          "text": [
            "                   all      0.915      0.996\n"
          ]
        },
        {
          "name": "stderr",
          "output_type": "stream",
          "text": [
            "\n"
          ]
        },
        {
          "name": "stdout",
          "output_type": "stream",
          "text": [
            "\n",
            "      Epoch    GPU_mem       loss  Instances       Size\n"
          ]
        },
        {
          "name": "stderr",
          "output_type": "stream",
          "text": [
            "     38/100     0.295G     0.3872          6        256: 100%|██████████| 784/784 [01:32<00:00,  8.46it/s]\n",
            "               classes   top1_acc   top5_acc: 100%|██████████| 111/111 [00:08<00:00, 12.44it/s]"
          ]
        },
        {
          "name": "stdout",
          "output_type": "stream",
          "text": [
            "                   all       0.92      0.997\n"
          ]
        },
        {
          "name": "stderr",
          "output_type": "stream",
          "text": [
            "\n"
          ]
        },
        {
          "name": "stdout",
          "output_type": "stream",
          "text": [
            "\n",
            "      Epoch    GPU_mem       loss  Instances       Size\n"
          ]
        },
        {
          "name": "stderr",
          "output_type": "stream",
          "text": [
            "     39/100     0.297G      0.383          6        256: 100%|██████████| 784/784 [01:32<00:00,  8.46it/s]\n",
            "               classes   top1_acc   top5_acc: 100%|██████████| 111/111 [00:08<00:00, 12.47it/s]"
          ]
        },
        {
          "name": "stdout",
          "output_type": "stream",
          "text": [
            "                   all      0.917      0.996\n"
          ]
        },
        {
          "name": "stderr",
          "output_type": "stream",
          "text": [
            "\n"
          ]
        },
        {
          "name": "stdout",
          "output_type": "stream",
          "text": [
            "\n",
            "      Epoch    GPU_mem       loss  Instances       Size\n"
          ]
        },
        {
          "name": "stderr",
          "output_type": "stream",
          "text": [
            "     40/100     0.287G     0.3719          6        256: 100%|██████████| 784/784 [01:32<00:00,  8.46it/s]\n",
            "               classes   top1_acc   top5_acc: 100%|██████████| 111/111 [00:09<00:00, 12.33it/s]"
          ]
        },
        {
          "name": "stdout",
          "output_type": "stream",
          "text": [
            "                   all      0.925      0.997\n"
          ]
        },
        {
          "name": "stderr",
          "output_type": "stream",
          "text": [
            "\n"
          ]
        },
        {
          "name": "stdout",
          "output_type": "stream",
          "text": [
            "\n",
            "      Epoch    GPU_mem       loss  Instances       Size\n"
          ]
        },
        {
          "name": "stderr",
          "output_type": "stream",
          "text": [
            "     41/100     0.295G     0.3727          6        256: 100%|██████████| 784/784 [01:32<00:00,  8.48it/s]\n",
            "               classes   top1_acc   top5_acc: 100%|██████████| 111/111 [00:09<00:00, 11.80it/s]"
          ]
        },
        {
          "name": "stdout",
          "output_type": "stream",
          "text": [
            "                   all      0.927      0.997\n"
          ]
        },
        {
          "name": "stderr",
          "output_type": "stream",
          "text": [
            "\n"
          ]
        },
        {
          "name": "stdout",
          "output_type": "stream",
          "text": [
            "\n",
            "      Epoch    GPU_mem       loss  Instances       Size\n"
          ]
        },
        {
          "name": "stderr",
          "output_type": "stream",
          "text": [
            "     42/100     0.297G     0.3508          6        256: 100%|██████████| 784/784 [01:33<00:00,  8.39it/s]\n",
            "               classes   top1_acc   top5_acc: 100%|██████████| 111/111 [00:09<00:00, 11.37it/s]"
          ]
        },
        {
          "name": "stdout",
          "output_type": "stream",
          "text": [
            "                   all      0.927      0.998\n"
          ]
        },
        {
          "name": "stderr",
          "output_type": "stream",
          "text": [
            "\n"
          ]
        },
        {
          "name": "stdout",
          "output_type": "stream",
          "text": [
            "\n",
            "      Epoch    GPU_mem       loss  Instances       Size\n"
          ]
        },
        {
          "name": "stderr",
          "output_type": "stream",
          "text": [
            "     43/100     0.287G     0.3538          6        256: 100%|██████████| 784/784 [01:32<00:00,  8.44it/s]\n",
            "               classes   top1_acc   top5_acc: 100%|██████████| 111/111 [00:09<00:00, 11.40it/s]"
          ]
        },
        {
          "name": "stdout",
          "output_type": "stream",
          "text": [
            "                   all      0.926      0.997\n"
          ]
        },
        {
          "name": "stderr",
          "output_type": "stream",
          "text": [
            "\n"
          ]
        },
        {
          "name": "stdout",
          "output_type": "stream",
          "text": [
            "\n",
            "      Epoch    GPU_mem       loss  Instances       Size\n"
          ]
        },
        {
          "name": "stderr",
          "output_type": "stream",
          "text": [
            "     44/100     0.295G     0.3476          6        256: 100%|██████████| 784/784 [01:32<00:00,  8.44it/s]\n",
            "               classes   top1_acc   top5_acc: 100%|██████████| 111/111 [00:09<00:00, 11.22it/s]"
          ]
        },
        {
          "name": "stdout",
          "output_type": "stream",
          "text": [
            "                   all       0.93      0.997\n"
          ]
        },
        {
          "name": "stderr",
          "output_type": "stream",
          "text": [
            "\n"
          ]
        },
        {
          "name": "stdout",
          "output_type": "stream",
          "text": [
            "\n",
            "      Epoch    GPU_mem       loss  Instances       Size\n"
          ]
        },
        {
          "name": "stderr",
          "output_type": "stream",
          "text": [
            "     45/100     0.297G     0.3445          6        256: 100%|██████████| 784/784 [01:33<00:00,  8.37it/s]\n",
            "               classes   top1_acc   top5_acc: 100%|██████████| 111/111 [00:09<00:00, 11.26it/s]"
          ]
        },
        {
          "name": "stdout",
          "output_type": "stream",
          "text": [
            "                   all      0.928      0.998\n"
          ]
        },
        {
          "name": "stderr",
          "output_type": "stream",
          "text": [
            "\n"
          ]
        },
        {
          "name": "stdout",
          "output_type": "stream",
          "text": [
            "\n",
            "      Epoch    GPU_mem       loss  Instances       Size\n"
          ]
        },
        {
          "name": "stderr",
          "output_type": "stream",
          "text": [
            "     46/100     0.289G     0.3268          6        256: 100%|██████████| 784/784 [01:32<00:00,  8.47it/s]\n",
            "               classes   top1_acc   top5_acc: 100%|██████████| 111/111 [00:09<00:00, 11.20it/s]"
          ]
        },
        {
          "name": "stdout",
          "output_type": "stream",
          "text": [
            "                   all       0.93      0.997\n"
          ]
        },
        {
          "name": "stderr",
          "output_type": "stream",
          "text": [
            "\n"
          ]
        },
        {
          "name": "stdout",
          "output_type": "stream",
          "text": [
            "\n",
            "      Epoch    GPU_mem       loss  Instances       Size\n"
          ]
        },
        {
          "name": "stderr",
          "output_type": "stream",
          "text": [
            "     47/100     0.295G      0.325          6        256: 100%|██████████| 784/784 [01:32<00:00,  8.47it/s]\n",
            "               classes   top1_acc   top5_acc: 100%|██████████| 111/111 [00:09<00:00, 11.45it/s]"
          ]
        },
        {
          "name": "stdout",
          "output_type": "stream",
          "text": [
            "                   all      0.934      0.998\n"
          ]
        },
        {
          "name": "stderr",
          "output_type": "stream",
          "text": [
            "\n"
          ]
        },
        {
          "name": "stdout",
          "output_type": "stream",
          "text": [
            "\n",
            "      Epoch    GPU_mem       loss  Instances       Size\n"
          ]
        },
        {
          "name": "stderr",
          "output_type": "stream",
          "text": [
            "     48/100     0.295G      0.322          6        256: 100%|██████████| 784/784 [01:32<00:00,  8.49it/s]\n",
            "               classes   top1_acc   top5_acc: 100%|██████████| 111/111 [00:09<00:00, 11.46it/s]"
          ]
        },
        {
          "name": "stdout",
          "output_type": "stream",
          "text": [
            "                   all      0.932      0.998\n"
          ]
        },
        {
          "name": "stderr",
          "output_type": "stream",
          "text": [
            "\n"
          ]
        },
        {
          "name": "stdout",
          "output_type": "stream",
          "text": [
            "\n",
            "      Epoch    GPU_mem       loss  Instances       Size\n"
          ]
        },
        {
          "name": "stderr",
          "output_type": "stream",
          "text": [
            "     49/100     0.287G     0.3073          6        256: 100%|██████████| 784/784 [01:32<00:00,  8.46it/s]\n",
            "               classes   top1_acc   top5_acc: 100%|██████████| 111/111 [00:09<00:00, 11.47it/s]"
          ]
        },
        {
          "name": "stdout",
          "output_type": "stream",
          "text": [
            "                   all      0.933      0.998\n"
          ]
        },
        {
          "name": "stderr",
          "output_type": "stream",
          "text": [
            "\n"
          ]
        },
        {
          "name": "stdout",
          "output_type": "stream",
          "text": [
            "\n",
            "      Epoch    GPU_mem       loss  Instances       Size\n"
          ]
        },
        {
          "name": "stderr",
          "output_type": "stream",
          "text": [
            "     50/100     0.299G     0.2972          6        256: 100%|██████████| 784/784 [01:32<00:00,  8.50it/s]\n",
            "               classes   top1_acc   top5_acc: 100%|██████████| 111/111 [00:09<00:00, 11.42it/s]"
          ]
        },
        {
          "name": "stdout",
          "output_type": "stream",
          "text": [
            "                   all      0.932      0.998\n"
          ]
        },
        {
          "name": "stderr",
          "output_type": "stream",
          "text": [
            "\n"
          ]
        },
        {
          "name": "stdout",
          "output_type": "stream",
          "text": [
            "\n",
            "      Epoch    GPU_mem       loss  Instances       Size\n"
          ]
        },
        {
          "name": "stderr",
          "output_type": "stream",
          "text": [
            "     51/100     0.293G     0.2948          6        256: 100%|██████████| 784/784 [01:31<00:00,  8.57it/s]\n",
            "               classes   top1_acc   top5_acc: 100%|██████████| 111/111 [00:09<00:00, 11.35it/s]"
          ]
        },
        {
          "name": "stdout",
          "output_type": "stream",
          "text": [
            "                   all      0.934      0.998\n"
          ]
        },
        {
          "name": "stderr",
          "output_type": "stream",
          "text": [
            "\n"
          ]
        },
        {
          "name": "stdout",
          "output_type": "stream",
          "text": [
            "\n",
            "      Epoch    GPU_mem       loss  Instances       Size\n"
          ]
        },
        {
          "name": "stderr",
          "output_type": "stream",
          "text": [
            "     52/100     0.301G     0.2957          6        256: 100%|██████████| 784/784 [01:32<00:00,  8.49it/s]\n",
            "               classes   top1_acc   top5_acc: 100%|██████████| 111/111 [00:09<00:00, 11.40it/s]"
          ]
        },
        {
          "name": "stdout",
          "output_type": "stream",
          "text": [
            "                   all      0.935      0.998\n"
          ]
        },
        {
          "name": "stderr",
          "output_type": "stream",
          "text": [
            "\n"
          ]
        },
        {
          "name": "stdout",
          "output_type": "stream",
          "text": [
            "\n",
            "      Epoch    GPU_mem       loss  Instances       Size\n"
          ]
        },
        {
          "name": "stderr",
          "output_type": "stream",
          "text": [
            "     53/100     0.299G     0.2982          6        256: 100%|██████████| 784/784 [01:40<00:00,  7.80it/s]\n",
            "               classes   top1_acc   top5_acc: 100%|██████████| 111/111 [00:09<00:00, 11.30it/s]"
          ]
        },
        {
          "name": "stdout",
          "output_type": "stream",
          "text": [
            "                   all      0.934      0.998\n"
          ]
        },
        {
          "name": "stderr",
          "output_type": "stream",
          "text": [
            "\n"
          ]
        },
        {
          "name": "stdout",
          "output_type": "stream",
          "text": [
            "\n",
            "      Epoch    GPU_mem       loss  Instances       Size\n"
          ]
        },
        {
          "name": "stderr",
          "output_type": "stream",
          "text": [
            "     54/100     0.293G     0.2824          6        256: 100%|██████████| 784/784 [01:32<00:00,  8.50it/s]\n",
            "               classes   top1_acc   top5_acc: 100%|██████████| 111/111 [00:09<00:00, 11.34it/s]"
          ]
        },
        {
          "name": "stdout",
          "output_type": "stream",
          "text": [
            "                   all      0.935      0.998\n"
          ]
        },
        {
          "name": "stderr",
          "output_type": "stream",
          "text": [
            "\n"
          ]
        },
        {
          "name": "stdout",
          "output_type": "stream",
          "text": [
            "\n",
            "      Epoch    GPU_mem       loss  Instances       Size\n"
          ]
        },
        {
          "name": "stderr",
          "output_type": "stream",
          "text": [
            "     55/100     0.299G     0.2783          6        256: 100%|██████████| 784/784 [01:32<00:00,  8.45it/s]\n",
            "               classes   top1_acc   top5_acc: 100%|██████████| 111/111 [00:09<00:00, 11.31it/s]"
          ]
        },
        {
          "name": "stdout",
          "output_type": "stream",
          "text": [
            "                   all      0.936      0.999\n"
          ]
        },
        {
          "name": "stderr",
          "output_type": "stream",
          "text": [
            "\n"
          ]
        },
        {
          "name": "stdout",
          "output_type": "stream",
          "text": [
            "\n",
            "      Epoch    GPU_mem       loss  Instances       Size\n"
          ]
        },
        {
          "name": "stderr",
          "output_type": "stream",
          "text": [
            "     56/100     0.295G     0.2846          6        256: 100%|██████████| 784/784 [01:32<00:00,  8.46it/s]\n",
            "               classes   top1_acc   top5_acc: 100%|██████████| 111/111 [00:09<00:00, 11.50it/s]"
          ]
        },
        {
          "name": "stdout",
          "output_type": "stream",
          "text": [
            "                   all      0.935      0.998\n"
          ]
        },
        {
          "name": "stderr",
          "output_type": "stream",
          "text": [
            "\n"
          ]
        },
        {
          "name": "stdout",
          "output_type": "stream",
          "text": [
            "\n",
            "      Epoch    GPU_mem       loss  Instances       Size\n"
          ]
        },
        {
          "name": "stderr",
          "output_type": "stream",
          "text": [
            "     57/100     0.295G     0.2753          6        256: 100%|██████████| 784/784 [01:32<00:00,  8.51it/s]\n",
            "               classes   top1_acc   top5_acc: 100%|██████████| 111/111 [00:09<00:00, 11.45it/s]"
          ]
        },
        {
          "name": "stdout",
          "output_type": "stream",
          "text": [
            "                   all      0.939      0.998\n"
          ]
        },
        {
          "name": "stderr",
          "output_type": "stream",
          "text": [
            "\n"
          ]
        },
        {
          "name": "stdout",
          "output_type": "stream",
          "text": [
            "\n",
            "      Epoch    GPU_mem       loss  Instances       Size\n"
          ]
        },
        {
          "name": "stderr",
          "output_type": "stream",
          "text": [
            "     58/100     0.289G     0.2672          6        256: 100%|██████████| 784/784 [01:31<00:00,  8.53it/s]\n",
            "               classes   top1_acc   top5_acc: 100%|██████████| 111/111 [00:09<00:00, 11.41it/s]"
          ]
        },
        {
          "name": "stdout",
          "output_type": "stream",
          "text": [
            "                   all      0.945      0.998\n"
          ]
        },
        {
          "name": "stderr",
          "output_type": "stream",
          "text": [
            "\n"
          ]
        },
        {
          "name": "stdout",
          "output_type": "stream",
          "text": [
            "\n",
            "      Epoch    GPU_mem       loss  Instances       Size\n"
          ]
        },
        {
          "name": "stderr",
          "output_type": "stream",
          "text": [
            "     59/100     0.299G     0.2568          6        256: 100%|██████████| 784/784 [01:32<00:00,  8.46it/s]\n",
            "               classes   top1_acc   top5_acc: 100%|██████████| 111/111 [00:09<00:00, 11.23it/s]"
          ]
        },
        {
          "name": "stdout",
          "output_type": "stream",
          "text": [
            "                   all      0.944      0.999\n"
          ]
        },
        {
          "name": "stderr",
          "output_type": "stream",
          "text": [
            "\n"
          ]
        },
        {
          "name": "stdout",
          "output_type": "stream",
          "text": [
            "\n",
            "      Epoch    GPU_mem       loss  Instances       Size\n"
          ]
        },
        {
          "name": "stderr",
          "output_type": "stream",
          "text": [
            "     60/100     0.293G     0.2588          6        256: 100%|██████████| 784/784 [01:32<00:00,  8.44it/s]\n",
            "               classes   top1_acc   top5_acc: 100%|██████████| 111/111 [00:09<00:00, 11.34it/s]\n"
          ]
        },
        {
          "name": "stdout",
          "output_type": "stream",
          "text": [
            "                   all      0.942      0.999\n",
            "\n",
            "      Epoch    GPU_mem       loss  Instances       Size\n"
          ]
        },
        {
          "name": "stderr",
          "output_type": "stream",
          "text": [
            "     61/100     0.299G     0.2363          6        256: 100%|██████████| 784/784 [01:32<00:00,  8.52it/s]\n",
            "               classes   top1_acc   top5_acc: 100%|██████████| 111/111 [00:09<00:00, 11.28it/s]"
          ]
        },
        {
          "name": "stdout",
          "output_type": "stream",
          "text": [
            "                   all      0.942      0.999\n"
          ]
        },
        {
          "name": "stderr",
          "output_type": "stream",
          "text": [
            "\n"
          ]
        },
        {
          "name": "stdout",
          "output_type": "stream",
          "text": [
            "\n",
            "      Epoch    GPU_mem       loss  Instances       Size\n"
          ]
        },
        {
          "name": "stderr",
          "output_type": "stream",
          "text": [
            "     62/100     0.299G     0.2498          6        256: 100%|██████████| 784/784 [01:32<00:00,  8.49it/s]\n",
            "               classes   top1_acc   top5_acc: 100%|██████████| 111/111 [00:09<00:00, 11.48it/s]"
          ]
        },
        {
          "name": "stdout",
          "output_type": "stream",
          "text": [
            "                   all      0.941      0.998\n"
          ]
        },
        {
          "name": "stderr",
          "output_type": "stream",
          "text": [
            "\n"
          ]
        },
        {
          "name": "stdout",
          "output_type": "stream",
          "text": [
            "\n",
            "      Epoch    GPU_mem       loss  Instances       Size\n"
          ]
        },
        {
          "name": "stderr",
          "output_type": "stream",
          "text": [
            "     63/100     0.293G     0.2487          6        256: 100%|██████████| 784/784 [01:32<00:00,  8.45it/s]\n",
            "               classes   top1_acc   top5_acc: 100%|██████████| 111/111 [00:09<00:00, 11.14it/s]"
          ]
        },
        {
          "name": "stdout",
          "output_type": "stream",
          "text": [
            "                   all      0.943      0.999\n"
          ]
        },
        {
          "name": "stderr",
          "output_type": "stream",
          "text": [
            "\n"
          ]
        },
        {
          "name": "stdout",
          "output_type": "stream",
          "text": [
            "\n",
            "      Epoch    GPU_mem       loss  Instances       Size\n"
          ]
        },
        {
          "name": "stderr",
          "output_type": "stream",
          "text": [
            "     64/100     0.299G     0.2384          6        256: 100%|██████████| 784/784 [01:32<00:00,  8.44it/s]\n",
            "               classes   top1_acc   top5_acc: 100%|██████████| 111/111 [00:09<00:00, 11.28it/s]"
          ]
        },
        {
          "name": "stdout",
          "output_type": "stream",
          "text": [
            "                   all      0.941      0.999\n"
          ]
        },
        {
          "name": "stderr",
          "output_type": "stream",
          "text": [
            "\n"
          ]
        },
        {
          "name": "stdout",
          "output_type": "stream",
          "text": [
            "\n",
            "      Epoch    GPU_mem       loss  Instances       Size\n"
          ]
        },
        {
          "name": "stderr",
          "output_type": "stream",
          "text": [
            "     65/100     0.295G     0.2311          6        256: 100%|██████████| 784/784 [01:32<00:00,  8.44it/s]\n",
            "               classes   top1_acc   top5_acc: 100%|██████████| 111/111 [00:09<00:00, 11.35it/s]"
          ]
        },
        {
          "name": "stdout",
          "output_type": "stream",
          "text": [
            "                   all      0.944      0.999\n"
          ]
        },
        {
          "name": "stderr",
          "output_type": "stream",
          "text": [
            "\n"
          ]
        },
        {
          "name": "stdout",
          "output_type": "stream",
          "text": [
            "\n",
            "      Epoch    GPU_mem       loss  Instances       Size\n"
          ]
        },
        {
          "name": "stderr",
          "output_type": "stream",
          "text": [
            "     66/100     0.295G     0.2183          6        256: 100%|██████████| 784/784 [01:32<00:00,  8.51it/s]\n",
            "               classes   top1_acc   top5_acc: 100%|██████████| 111/111 [00:09<00:00, 11.41it/s]"
          ]
        },
        {
          "name": "stdout",
          "output_type": "stream",
          "text": [
            "                   all      0.942      0.999\n"
          ]
        },
        {
          "name": "stderr",
          "output_type": "stream",
          "text": [
            "\n"
          ]
        },
        {
          "name": "stdout",
          "output_type": "stream",
          "text": [
            "\n",
            "      Epoch    GPU_mem       loss  Instances       Size\n"
          ]
        },
        {
          "name": "stderr",
          "output_type": "stream",
          "text": [
            "     67/100     0.287G     0.2203          6        256: 100%|██████████| 784/784 [01:32<00:00,  8.49it/s]\n",
            "               classes   top1_acc   top5_acc: 100%|██████████| 111/111 [00:09<00:00, 11.40it/s]"
          ]
        },
        {
          "name": "stdout",
          "output_type": "stream",
          "text": [
            "                   all      0.942      0.999\n"
          ]
        },
        {
          "name": "stderr",
          "output_type": "stream",
          "text": [
            "\n"
          ]
        },
        {
          "name": "stdout",
          "output_type": "stream",
          "text": [
            "\n",
            "      Epoch    GPU_mem       loss  Instances       Size\n"
          ]
        },
        {
          "name": "stderr",
          "output_type": "stream",
          "text": [
            "     68/100     0.295G     0.2157          6        256: 100%|██████████| 784/784 [01:32<00:00,  8.45it/s]\n",
            "               classes   top1_acc   top5_acc: 100%|██████████| 111/111 [00:09<00:00, 11.33it/s]\n"
          ]
        },
        {
          "name": "stdout",
          "output_type": "stream",
          "text": [
            "                   all      0.944      0.999\n",
            "\n",
            "      Epoch    GPU_mem       loss  Instances       Size\n"
          ]
        },
        {
          "name": "stderr",
          "output_type": "stream",
          "text": [
            "     69/100     0.295G     0.2227          6        256: 100%|██████████| 784/784 [01:32<00:00,  8.49it/s]\n",
            "               classes   top1_acc   top5_acc: 100%|██████████| 111/111 [00:09<00:00, 11.43it/s]"
          ]
        },
        {
          "name": "stdout",
          "output_type": "stream",
          "text": [
            "                   all      0.945      0.999\n"
          ]
        },
        {
          "name": "stderr",
          "output_type": "stream",
          "text": [
            "\n"
          ]
        },
        {
          "name": "stdout",
          "output_type": "stream",
          "text": [
            "\n",
            "      Epoch    GPU_mem       loss  Instances       Size\n"
          ]
        },
        {
          "name": "stderr",
          "output_type": "stream",
          "text": [
            "     70/100     0.287G     0.2161          6        256: 100%|██████████| 784/784 [01:32<00:00,  8.51it/s]\n",
            "               classes   top1_acc   top5_acc: 100%|██████████| 111/111 [00:09<00:00, 11.36it/s]\n"
          ]
        },
        {
          "name": "stdout",
          "output_type": "stream",
          "text": [
            "                   all      0.946      0.999\n",
            "\n",
            "      Epoch    GPU_mem       loss  Instances       Size\n"
          ]
        },
        {
          "name": "stderr",
          "output_type": "stream",
          "text": [
            "     71/100     0.301G     0.2122          6        256: 100%|██████████| 784/784 [01:31<00:00,  8.53it/s]\n",
            "               classes   top1_acc   top5_acc: 100%|██████████| 111/111 [00:09<00:00, 11.50it/s]"
          ]
        },
        {
          "name": "stdout",
          "output_type": "stream",
          "text": [
            "                   all      0.945      0.999\n"
          ]
        },
        {
          "name": "stderr",
          "output_type": "stream",
          "text": [
            "\n"
          ]
        },
        {
          "name": "stdout",
          "output_type": "stream",
          "text": [
            "\n",
            "      Epoch    GPU_mem       loss  Instances       Size\n"
          ]
        },
        {
          "name": "stderr",
          "output_type": "stream",
          "text": [
            "     72/100     0.293G     0.1992          6        256: 100%|██████████| 784/784 [01:31<00:00,  8.53it/s]\n",
            "               classes   top1_acc   top5_acc: 100%|██████████| 111/111 [00:09<00:00, 11.38it/s]"
          ]
        },
        {
          "name": "stdout",
          "output_type": "stream",
          "text": [
            "                   all      0.946      0.999\n"
          ]
        },
        {
          "name": "stderr",
          "output_type": "stream",
          "text": [
            "\n"
          ]
        },
        {
          "name": "stdout",
          "output_type": "stream",
          "text": [
            "\n",
            "      Epoch    GPU_mem       loss  Instances       Size\n"
          ]
        },
        {
          "name": "stderr",
          "output_type": "stream",
          "text": [
            "     73/100     0.299G      0.201          6        256: 100%|██████████| 784/784 [01:32<00:00,  8.52it/s]\n",
            "               classes   top1_acc   top5_acc: 100%|██████████| 111/111 [00:09<00:00, 11.29it/s]"
          ]
        },
        {
          "name": "stdout",
          "output_type": "stream",
          "text": [
            "                   all      0.948      0.999\n"
          ]
        },
        {
          "name": "stderr",
          "output_type": "stream",
          "text": [
            "\n"
          ]
        },
        {
          "name": "stdout",
          "output_type": "stream",
          "text": [
            "\n",
            "      Epoch    GPU_mem       loss  Instances       Size\n"
          ]
        },
        {
          "name": "stderr",
          "output_type": "stream",
          "text": [
            "     74/100     0.299G     0.1958          6        256: 100%|██████████| 784/784 [01:32<00:00,  8.52it/s]\n",
            "               classes   top1_acc   top5_acc: 100%|██████████| 111/111 [00:09<00:00, 11.46it/s]"
          ]
        },
        {
          "name": "stdout",
          "output_type": "stream",
          "text": [
            "                   all      0.947      0.999\n"
          ]
        },
        {
          "name": "stderr",
          "output_type": "stream",
          "text": [
            "\n"
          ]
        },
        {
          "name": "stdout",
          "output_type": "stream",
          "text": [
            "\n",
            "      Epoch    GPU_mem       loss  Instances       Size\n"
          ]
        },
        {
          "name": "stderr",
          "output_type": "stream",
          "text": [
            "     75/100     0.293G     0.1873          6        256: 100%|██████████| 784/784 [01:31<00:00,  8.52it/s]\n",
            "               classes   top1_acc   top5_acc: 100%|██████████| 111/111 [00:09<00:00, 11.35it/s]"
          ]
        },
        {
          "name": "stdout",
          "output_type": "stream",
          "text": [
            "                   all      0.948      0.999\n"
          ]
        },
        {
          "name": "stderr",
          "output_type": "stream",
          "text": [
            "\n"
          ]
        },
        {
          "name": "stdout",
          "output_type": "stream",
          "text": [
            "\n",
            "      Epoch    GPU_mem       loss  Instances       Size\n"
          ]
        },
        {
          "name": "stderr",
          "output_type": "stream",
          "text": [
            "     76/100     0.299G     0.1887          6        256: 100%|██████████| 784/784 [01:32<00:00,  8.51it/s]\n",
            "               classes   top1_acc   top5_acc: 100%|██████████| 111/111 [00:09<00:00, 11.59it/s]"
          ]
        },
        {
          "name": "stdout",
          "output_type": "stream",
          "text": [
            "                   all       0.95      0.999\n"
          ]
        },
        {
          "name": "stderr",
          "output_type": "stream",
          "text": [
            "\n"
          ]
        },
        {
          "name": "stdout",
          "output_type": "stream",
          "text": [
            "\n",
            "      Epoch    GPU_mem       loss  Instances       Size\n"
          ]
        },
        {
          "name": "stderr",
          "output_type": "stream",
          "text": [
            "     77/100     0.295G     0.1808          6        256: 100%|██████████| 784/784 [01:32<00:00,  8.51it/s]\n",
            "               classes   top1_acc   top5_acc: 100%|██████████| 111/111 [00:09<00:00, 11.65it/s]"
          ]
        },
        {
          "name": "stdout",
          "output_type": "stream",
          "text": [
            "                   all       0.95      0.999\n"
          ]
        },
        {
          "name": "stderr",
          "output_type": "stream",
          "text": [
            "\n"
          ]
        },
        {
          "name": "stdout",
          "output_type": "stream",
          "text": [
            "\n",
            "      Epoch    GPU_mem       loss  Instances       Size\n"
          ]
        },
        {
          "name": "stderr",
          "output_type": "stream",
          "text": [
            "     78/100     0.295G     0.1767          6        256: 100%|██████████| 784/784 [01:31<00:00,  8.55it/s]\n",
            "               classes   top1_acc   top5_acc: 100%|██████████| 111/111 [00:10<00:00, 10.91it/s]"
          ]
        },
        {
          "name": "stdout",
          "output_type": "stream",
          "text": [
            "                   all      0.951      0.999\n"
          ]
        },
        {
          "name": "stderr",
          "output_type": "stream",
          "text": [
            "\n"
          ]
        },
        {
          "name": "stdout",
          "output_type": "stream",
          "text": [
            "\n",
            "      Epoch    GPU_mem       loss  Instances       Size\n"
          ]
        },
        {
          "name": "stderr",
          "output_type": "stream",
          "text": [
            "     79/100     0.287G     0.1698          6        256: 100%|██████████| 784/784 [01:32<00:00,  8.44it/s]\n",
            "               classes   top1_acc   top5_acc: 100%|██████████| 111/111 [00:09<00:00, 11.44it/s]"
          ]
        },
        {
          "name": "stdout",
          "output_type": "stream",
          "text": [
            "                   all      0.951      0.999\n"
          ]
        },
        {
          "name": "stderr",
          "output_type": "stream",
          "text": [
            "\n"
          ]
        },
        {
          "name": "stdout",
          "output_type": "stream",
          "text": [
            "\n",
            "      Epoch    GPU_mem       loss  Instances       Size\n"
          ]
        },
        {
          "name": "stderr",
          "output_type": "stream",
          "text": [
            "     80/100     0.295G     0.1764          6        256: 100%|██████████| 784/784 [01:33<00:00,  8.40it/s]\n",
            "               classes   top1_acc   top5_acc: 100%|██████████| 111/111 [00:09<00:00, 11.56it/s]"
          ]
        },
        {
          "name": "stdout",
          "output_type": "stream",
          "text": [
            "                   all      0.952      0.999\n"
          ]
        },
        {
          "name": "stderr",
          "output_type": "stream",
          "text": [
            "\n"
          ]
        },
        {
          "name": "stdout",
          "output_type": "stream",
          "text": [
            "\n",
            "      Epoch    GPU_mem       loss  Instances       Size\n"
          ]
        },
        {
          "name": "stderr",
          "output_type": "stream",
          "text": [
            "     81/100     0.295G     0.1669          6        256: 100%|██████████| 784/784 [01:31<00:00,  8.55it/s]\n",
            "               classes   top1_acc   top5_acc: 100%|██████████| 111/111 [00:09<00:00, 11.63it/s]"
          ]
        },
        {
          "name": "stdout",
          "output_type": "stream",
          "text": [
            "                   all      0.952      0.999\n"
          ]
        },
        {
          "name": "stderr",
          "output_type": "stream",
          "text": [
            "\n"
          ]
        },
        {
          "name": "stdout",
          "output_type": "stream",
          "text": [
            "\n",
            "      Epoch    GPU_mem       loss  Instances       Size\n"
          ]
        },
        {
          "name": "stderr",
          "output_type": "stream",
          "text": [
            "     82/100     0.287G      0.161          6        256: 100%|██████████| 784/784 [01:31<00:00,  8.57it/s]\n",
            "               classes   top1_acc   top5_acc: 100%|██████████| 111/111 [00:09<00:00, 11.59it/s]"
          ]
        },
        {
          "name": "stdout",
          "output_type": "stream",
          "text": [
            "                   all      0.952      0.999\n"
          ]
        },
        {
          "name": "stderr",
          "output_type": "stream",
          "text": [
            "\n"
          ]
        },
        {
          "name": "stdout",
          "output_type": "stream",
          "text": [
            "\n",
            "      Epoch    GPU_mem       loss  Instances       Size\n"
          ]
        },
        {
          "name": "stderr",
          "output_type": "stream",
          "text": [
            "     83/100     0.295G     0.1612          6        256: 100%|██████████| 784/784 [01:31<00:00,  8.58it/s]\n",
            "               classes   top1_acc   top5_acc: 100%|██████████| 111/111 [00:09<00:00, 11.49it/s]"
          ]
        },
        {
          "name": "stdout",
          "output_type": "stream",
          "text": [
            "                   all      0.953      0.999\n"
          ]
        },
        {
          "name": "stderr",
          "output_type": "stream",
          "text": [
            "\n"
          ]
        },
        {
          "name": "stdout",
          "output_type": "stream",
          "text": [
            "\n",
            "      Epoch    GPU_mem       loss  Instances       Size\n"
          ]
        },
        {
          "name": "stderr",
          "output_type": "stream",
          "text": [
            "     84/100     0.297G      0.158          6        256: 100%|██████████| 784/784 [01:31<00:00,  8.58it/s]\n",
            "               classes   top1_acc   top5_acc: 100%|██████████| 111/111 [00:09<00:00, 11.55it/s]"
          ]
        },
        {
          "name": "stdout",
          "output_type": "stream",
          "text": [
            "                   all      0.952      0.999\n"
          ]
        },
        {
          "name": "stderr",
          "output_type": "stream",
          "text": [
            "\n"
          ]
        },
        {
          "name": "stdout",
          "output_type": "stream",
          "text": [
            "\n",
            "      Epoch    GPU_mem       loss  Instances       Size\n"
          ]
        },
        {
          "name": "stderr",
          "output_type": "stream",
          "text": [
            "     85/100     0.287G     0.1492          6        256: 100%|██████████| 784/784 [01:31<00:00,  8.59it/s]\n",
            "               classes   top1_acc   top5_acc: 100%|██████████| 111/111 [00:08<00:00, 12.93it/s]"
          ]
        },
        {
          "name": "stdout",
          "output_type": "stream",
          "text": [
            "                   all      0.953      0.999\n"
          ]
        },
        {
          "name": "stderr",
          "output_type": "stream",
          "text": [
            "\n"
          ]
        },
        {
          "name": "stdout",
          "output_type": "stream",
          "text": [
            "\n",
            "      Epoch    GPU_mem       loss  Instances       Size\n"
          ]
        },
        {
          "name": "stderr",
          "output_type": "stream",
          "text": [
            "     86/100     0.295G     0.1467          6        256: 100%|██████████| 784/784 [01:31<00:00,  8.52it/s]\n",
            "               classes   top1_acc   top5_acc: 100%|██████████| 111/111 [00:08<00:00, 12.86it/s]"
          ]
        },
        {
          "name": "stdout",
          "output_type": "stream",
          "text": [
            "                   all      0.953      0.999\n"
          ]
        },
        {
          "name": "stderr",
          "output_type": "stream",
          "text": [
            "\n"
          ]
        },
        {
          "name": "stdout",
          "output_type": "stream",
          "text": [
            "\n",
            "      Epoch    GPU_mem       loss  Instances       Size\n"
          ]
        },
        {
          "name": "stderr",
          "output_type": "stream",
          "text": [
            "     87/100     0.295G     0.1399          6        256: 100%|██████████| 784/784 [01:32<00:00,  8.51it/s]\n",
            "               classes   top1_acc   top5_acc: 100%|██████████| 111/111 [00:08<00:00, 12.59it/s]"
          ]
        },
        {
          "name": "stdout",
          "output_type": "stream",
          "text": [
            "                   all      0.953      0.999\n"
          ]
        },
        {
          "name": "stderr",
          "output_type": "stream",
          "text": [
            "\n"
          ]
        },
        {
          "name": "stdout",
          "output_type": "stream",
          "text": [
            "\n",
            "      Epoch    GPU_mem       loss  Instances       Size\n"
          ]
        },
        {
          "name": "stderr",
          "output_type": "stream",
          "text": [
            "     88/100     0.287G     0.1434          6        256: 100%|██████████| 784/784 [01:31<00:00,  8.54it/s]\n",
            "               classes   top1_acc   top5_acc: 100%|██████████| 111/111 [00:09<00:00, 11.79it/s]"
          ]
        },
        {
          "name": "stdout",
          "output_type": "stream",
          "text": [
            "                   all      0.953      0.999\n"
          ]
        },
        {
          "name": "stderr",
          "output_type": "stream",
          "text": [
            "\n"
          ]
        },
        {
          "name": "stdout",
          "output_type": "stream",
          "text": [
            "\n",
            "      Epoch    GPU_mem       loss  Instances       Size\n"
          ]
        },
        {
          "name": "stderr",
          "output_type": "stream",
          "text": [
            "     89/100     0.295G     0.1365          6        256: 100%|██████████| 784/784 [01:31<00:00,  8.54it/s]\n",
            "               classes   top1_acc   top5_acc: 100%|██████████| 111/111 [00:09<00:00, 11.64it/s]"
          ]
        },
        {
          "name": "stdout",
          "output_type": "stream",
          "text": [
            "                   all      0.954      0.999\n"
          ]
        },
        {
          "name": "stderr",
          "output_type": "stream",
          "text": [
            "\n"
          ]
        },
        {
          "name": "stdout",
          "output_type": "stream",
          "text": [
            "\n",
            "      Epoch    GPU_mem       loss  Instances       Size\n"
          ]
        },
        {
          "name": "stderr",
          "output_type": "stream",
          "text": [
            "     90/100     0.295G     0.1272          6        256: 100%|██████████| 784/784 [01:31<00:00,  8.57it/s]\n",
            "               classes   top1_acc   top5_acc: 100%|██████████| 111/111 [00:09<00:00, 11.56it/s]"
          ]
        },
        {
          "name": "stdout",
          "output_type": "stream",
          "text": [
            "                   all      0.953      0.999\n"
          ]
        },
        {
          "name": "stderr",
          "output_type": "stream",
          "text": [
            "\n"
          ]
        },
        {
          "name": "stdout",
          "output_type": "stream",
          "text": [
            "\n",
            "      Epoch    GPU_mem       loss  Instances       Size\n"
          ]
        },
        {
          "name": "stderr",
          "output_type": "stream",
          "text": [
            "     91/100     0.289G     0.1278          6        256: 100%|██████████| 784/784 [01:29<00:00,  8.73it/s]\n",
            "               classes   top1_acc   top5_acc: 100%|██████████| 111/111 [00:09<00:00, 11.64it/s]"
          ]
        },
        {
          "name": "stdout",
          "output_type": "stream",
          "text": [
            "                   all      0.954      0.999\n"
          ]
        },
        {
          "name": "stderr",
          "output_type": "stream",
          "text": [
            "\n"
          ]
        },
        {
          "name": "stdout",
          "output_type": "stream",
          "text": [
            "\n",
            "      Epoch    GPU_mem       loss  Instances       Size\n"
          ]
        },
        {
          "name": "stderr",
          "output_type": "stream",
          "text": [
            "     92/100     0.295G     0.1296          6        256: 100%|██████████| 784/784 [01:29<00:00,  8.80it/s]\n",
            "               classes   top1_acc   top5_acc: 100%|██████████| 111/111 [00:09<00:00, 11.60it/s]"
          ]
        },
        {
          "name": "stdout",
          "output_type": "stream",
          "text": [
            "                   all      0.954      0.999\n"
          ]
        },
        {
          "name": "stderr",
          "output_type": "stream",
          "text": [
            "\n"
          ]
        },
        {
          "name": "stdout",
          "output_type": "stream",
          "text": [
            "\n",
            "      Epoch    GPU_mem       loss  Instances       Size\n"
          ]
        },
        {
          "name": "stderr",
          "output_type": "stream",
          "text": [
            "     93/100     0.295G     0.1211          6        256: 100%|██████████| 784/784 [01:29<00:00,  8.76it/s]\n",
            "               classes   top1_acc   top5_acc: 100%|██████████| 111/111 [00:08<00:00, 13.04it/s]"
          ]
        },
        {
          "name": "stdout",
          "output_type": "stream",
          "text": [
            "                   all      0.954      0.999\n"
          ]
        },
        {
          "name": "stderr",
          "output_type": "stream",
          "text": [
            "\n"
          ]
        },
        {
          "name": "stdout",
          "output_type": "stream",
          "text": [
            "\n",
            "      Epoch    GPU_mem       loss  Instances       Size\n"
          ]
        },
        {
          "name": "stderr",
          "output_type": "stream",
          "text": [
            "     94/100     0.287G     0.1187          6        256: 100%|██████████| 784/784 [01:29<00:00,  8.77it/s]\n",
            "               classes   top1_acc   top5_acc: 100%|██████████| 111/111 [00:09<00:00, 11.69it/s]"
          ]
        },
        {
          "name": "stdout",
          "output_type": "stream",
          "text": [
            "                   all      0.954      0.999\n"
          ]
        },
        {
          "name": "stderr",
          "output_type": "stream",
          "text": [
            "\n"
          ]
        },
        {
          "name": "stdout",
          "output_type": "stream",
          "text": [
            "\n",
            "      Epoch    GPU_mem       loss  Instances       Size\n"
          ]
        },
        {
          "name": "stderr",
          "output_type": "stream",
          "text": [
            "     95/100     0.295G     0.1192          6        256: 100%|██████████| 784/784 [01:29<00:00,  8.78it/s]\n",
            "               classes   top1_acc   top5_acc: 100%|██████████| 111/111 [00:09<00:00, 11.63it/s]"
          ]
        },
        {
          "name": "stdout",
          "output_type": "stream",
          "text": [
            "                   all      0.954      0.999\n"
          ]
        },
        {
          "name": "stderr",
          "output_type": "stream",
          "text": [
            "\n"
          ]
        },
        {
          "name": "stdout",
          "output_type": "stream",
          "text": [
            "\n",
            "      Epoch    GPU_mem       loss  Instances       Size\n"
          ]
        },
        {
          "name": "stderr",
          "output_type": "stream",
          "text": [
            "     96/100     0.295G     0.1182          6        256: 100%|██████████| 784/784 [01:29<00:00,  8.79it/s]\n",
            "               classes   top1_acc   top5_acc: 100%|██████████| 111/111 [00:09<00:00, 11.54it/s]"
          ]
        },
        {
          "name": "stdout",
          "output_type": "stream",
          "text": [
            "                   all      0.954      0.999\n"
          ]
        },
        {
          "name": "stderr",
          "output_type": "stream",
          "text": [
            "\n"
          ]
        },
        {
          "name": "stdout",
          "output_type": "stream",
          "text": [
            "\n",
            "      Epoch    GPU_mem       loss  Instances       Size\n"
          ]
        },
        {
          "name": "stderr",
          "output_type": "stream",
          "text": [
            "     97/100     0.287G      0.115          6        256: 100%|██████████| 784/784 [01:29<00:00,  8.74it/s]\n",
            "               classes   top1_acc   top5_acc: 100%|██████████| 111/111 [00:08<00:00, 12.93it/s]\n"
          ]
        },
        {
          "name": "stdout",
          "output_type": "stream",
          "text": [
            "                   all      0.954      0.999\n",
            "\n",
            "      Epoch    GPU_mem       loss  Instances       Size\n"
          ]
        },
        {
          "name": "stderr",
          "output_type": "stream",
          "text": [
            "     98/100     0.297G      0.113          6        256: 100%|██████████| 784/784 [01:29<00:00,  8.79it/s]\n",
            "               classes   top1_acc   top5_acc: 100%|██████████| 111/111 [00:09<00:00, 11.63it/s]"
          ]
        },
        {
          "name": "stdout",
          "output_type": "stream",
          "text": [
            "                   all      0.955      0.999\n"
          ]
        },
        {
          "name": "stderr",
          "output_type": "stream",
          "text": [
            "\n"
          ]
        },
        {
          "name": "stdout",
          "output_type": "stream",
          "text": [
            "\n",
            "      Epoch    GPU_mem       loss  Instances       Size\n"
          ]
        },
        {
          "name": "stderr",
          "output_type": "stream",
          "text": [
            "     99/100     0.295G     0.1034          6        256: 100%|██████████| 784/784 [01:29<00:00,  8.74it/s]\n",
            "               classes   top1_acc   top5_acc: 100%|██████████| 111/111 [00:09<00:00, 11.61it/s]"
          ]
        },
        {
          "name": "stdout",
          "output_type": "stream",
          "text": [
            "                   all      0.955      0.999\n"
          ]
        },
        {
          "name": "stderr",
          "output_type": "stream",
          "text": [
            "\n"
          ]
        },
        {
          "name": "stdout",
          "output_type": "stream",
          "text": [
            "\n",
            "      Epoch    GPU_mem       loss  Instances       Size\n"
          ]
        },
        {
          "name": "stderr",
          "output_type": "stream",
          "text": [
            "    100/100     0.289G     0.1138          6        256: 100%|██████████| 784/784 [01:29<00:00,  8.72it/s]\n",
            "               classes   top1_acc   top5_acc: 100%|██████████| 111/111 [00:09<00:00, 11.49it/s]\n"
          ]
        },
        {
          "name": "stdout",
          "output_type": "stream",
          "text": [
            "                   all      0.955      0.999\n",
            "\n",
            "100 epochs completed in 2.852 hours.\n",
            "Optimizer stripped from runs/classify/train/weights/last.pt, 3.3MB\n",
            "Optimizer stripped from runs/classify/train/weights/best.pt, 3.3MB\n",
            "\n",
            "Validating runs/classify/train/weights/best.pt...\n",
            "Ultralytics 8.3.78 🚀 Python-3.11.11 torch-2.5.1+cu124 CUDA:0 (Tesla T4, 15095MiB)\n",
            "YOLO11n-cls summary (fused): 47 layers, 1,574,702 parameters, 0 gradients, 3.2 GFLOPs\n",
            "\u001b[34m\u001b[1mtrain:\u001b[0m /content/PlantVillage-Dataset/PlantVillage/train... found 12534 images in 38 classes ✅ \n",
            "\u001b[34m\u001b[1mval:\u001b[0m /content/PlantVillage-Dataset/PlantVillage/val... found 3549 images in 38 classes ✅ \n",
            "\u001b[34m\u001b[1mtest:\u001b[0m /content/PlantVillage-Dataset/PlantVillage/test... found 1827 images in 38 classes ✅ \n"
          ]
        },
        {
          "name": "stderr",
          "output_type": "stream",
          "text": [
            "               classes   top1_acc   top5_acc: 100%|██████████| 111/111 [00:09<00:00, 11.50it/s]\n"
          ]
        },
        {
          "name": "stdout",
          "output_type": "stream",
          "text": [
            "                   all      0.955      0.999\n",
            "Speed: 0.1ms preprocess, 0.6ms inference, 0.0ms loss, 0.0ms postprocess per image\n",
            "Results saved to \u001b[1mruns/classify/train\u001b[0m\n"
          ]
        }
      ],
      "source": [
        "# Train the model\n",
        "results = model.train(data=output_path, epochs=100, imgsz=256, batch=16, device=\"cuda\")"
      ]
    },
    {
      "cell_type": "code",
      "execution_count": null,
      "metadata": {
        "colab": {
          "base_uri": "https://localhost:8080/"
        },
        "id": "qNDPHX4apy1N",
        "outputId": "5bcad294-24ab-44e5-c94a-e29ea7e56f30"
      },
      "outputs": [
        {
          "name": "stdout",
          "output_type": "stream",
          "text": [
            "Ultralytics 8.3.78 🚀 Python-3.11.11 torch-2.5.1+cu124 CUDA:0 (Tesla T4, 15095MiB)\n",
            "YOLO11n-cls summary (fused): 47 layers, 1,574,702 parameters, 0 gradients, 3.2 GFLOPs\n",
            "\u001b[34m\u001b[1mtrain:\u001b[0m /content/PlantVillage-Dataset/PlantVillage/train... found 12534 images in 38 classes ✅ \n",
            "\u001b[34m\u001b[1mval:\u001b[0m /content/PlantVillage-Dataset/PlantVillage/val... found 3549 images in 38 classes ✅ \n",
            "\u001b[34m\u001b[1mtest:\u001b[0m /content/PlantVillage-Dataset/PlantVillage/test... found 1827 images in 38 classes ✅ \n"
          ]
        },
        {
          "name": "stderr",
          "output_type": "stream",
          "text": [
            "\u001b[34m\u001b[1mval: \u001b[0mScanning /content/PlantVillage-Dataset/PlantVillage/val... 3549 images, 0 corrupt: 100%|██████████| 3549/3549 [00:00<?, ?it/s]\n",
            "               classes   top1_acc   top5_acc: 100%|██████████| 222/222 [00:09<00:00, 24.05it/s]\n"
          ]
        },
        {
          "name": "stdout",
          "output_type": "stream",
          "text": [
            "                   all      0.954      0.999\n",
            "Speed: 0.1ms preprocess, 1.0ms inference, 0.0ms loss, 0.0ms postprocess per image\n",
            "Results saved to \u001b[1mruns/classify/train2\u001b[0m\n",
            "ultralytics.utils.metrics.ClassifyMetrics object with attributes:\n",
            "\n",
            "confusion_matrix: <ultralytics.utils.metrics.ConfusionMatrix object at 0x7a9ac018af10>\n",
            "curves: []\n",
            "curves_results: []\n",
            "fitness: 0.9766131341457367\n",
            "keys: ['metrics/accuracy_top1', 'metrics/accuracy_top5']\n",
            "results_dict: {'metrics/accuracy_top1': 0.9543533325195312, 'metrics/accuracy_top5': 0.9988729357719421, 'fitness': 0.9766131341457367}\n",
            "save_dir: PosixPath('runs/classify/train2')\n",
            "speed: {'preprocess': 0.12149672752896763, 'inference': 1.0468365626896468, 'loss': 0.002608414760265404, 'postprocess': 0.0017294249100552948}\n",
            "task: 'classify'\n",
            "top1: 0.9543533325195312\n",
            "top5: 0.9988729357719421\n"
          ]
        }
      ],
      "source": [
        "# Validate the model\n",
        "metrics = model.val()\n",
        "print(metrics)"
      ]
    },
    {
      "cell_type": "code",
      "execution_count": null,
      "metadata": {
        "colab": {
          "base_uri": "https://localhost:8080/"
        },
        "id": "2e5952Kt9Xtb",
        "outputId": "4cead3d2-b06e-464a-d6bc-5d58e779d86c"
      },
      "outputs": [
        {
          "name": "stdout",
          "output_type": "stream",
          "text": [
            "Ultralytics 8.3.78 🚀 Python-3.11.11 torch-2.5.1+cu124 CUDA:0 (Tesla T4, 15095MiB)\n",
            "\u001b[34m\u001b[1mtrain:\u001b[0m /content/PlantVillage-Dataset/PlantVillage/train... found 12534 images in 38 classes ✅ \n",
            "\u001b[34m\u001b[1mval:\u001b[0m /content/PlantVillage-Dataset/PlantVillage/val... found 3549 images in 38 classes ✅ \n",
            "\u001b[34m\u001b[1mtest:\u001b[0m /content/PlantVillage-Dataset/PlantVillage/test... found 1827 images in 38 classes ✅ \n"
          ]
        },
        {
          "name": "stderr",
          "output_type": "stream",
          "text": [
            "\u001b[34m\u001b[1mtest: \u001b[0mScanning /content/PlantVillage-Dataset/PlantVillage/test... 1827 images, 0 corrupt: 100%|██████████| 1827/1827 [00:00<00:00, 5428.04it/s]"
          ]
        },
        {
          "name": "stdout",
          "output_type": "stream",
          "text": [
            "\u001b[34m\u001b[1mtest: \u001b[0mNew cache created: /content/PlantVillage-Dataset/PlantVillage/test.cache\n"
          ]
        },
        {
          "name": "stderr",
          "output_type": "stream",
          "text": [
            "\n",
            "               classes   top1_acc   top5_acc: 100%|██████████| 115/115 [00:04<00:00, 25.92it/s]\n"
          ]
        },
        {
          "name": "stdout",
          "output_type": "stream",
          "text": [
            "                   all       0.95      0.998\n",
            "Speed: 0.2ms preprocess, 1.0ms inference, 0.0ms loss, 0.0ms postprocess per image\n",
            "Results saved to \u001b[1mruns/classify/train3\u001b[0m\n"
          ]
        },
        {
          "data": {
            "text/plain": [
              "ultralytics.utils.metrics.ClassifyMetrics object with attributes:\n",
              "\n",
              "confusion_matrix: <ultralytics.utils.metrics.ConfusionMatrix object at 0x7a9aac17d390>\n",
              "curves: []\n",
              "curves_results: []\n",
              "fitness: 0.9740010797977448\n",
              "keys: ['metrics/accuracy_top1', 'metrics/accuracy_top5']\n",
              "results_dict: {'metrics/accuracy_top1': 0.9496442079544067, 'metrics/accuracy_top5': 0.9983579516410828, 'fitness': 0.9740010797977448}\n",
              "save_dir: PosixPath('runs/classify/train3')\n",
              "speed: {'preprocess': 0.19125130268324161, 'inference': 1.0333095911317942, 'loss': 0.005202834702073431, 'postprocess': 0.004523179531430983}\n",
              "task: 'classify'\n",
              "top1: 0.9496442079544067\n",
              "top5: 0.9983579516410828"
            ]
          },
          "execution_count": 11,
          "metadata": {},
          "output_type": "execute_result"
        }
      ],
      "source": [
        "# Testing\n",
        "model.val(split=\"test\")"
      ]
    },
    {
      "cell_type": "markdown",
      "metadata": {},
      "source": [
        "## Zip and download the model"
      ]
    },
    {
      "cell_type": "code",
      "execution_count": null,
      "metadata": {
        "colab": {
          "base_uri": "https://localhost:8080/"
        },
        "id": "eZ6JobgH3-Q0",
        "outputId": "8f8de942-65b3-407b-fe10-1f9d39e3bece"
      },
      "outputs": [
        {
          "name": "stdout",
          "output_type": "stream",
          "text": [
            "  adding: content/PlantVillage-Dataset/runs/ (stored 0%)\n",
            "  adding: content/PlantVillage-Dataset/runs/classify/ (stored 0%)\n",
            "  adding: content/PlantVillage-Dataset/runs/classify/train2/ (stored 0%)\n",
            "  adding: content/PlantVillage-Dataset/runs/classify/train2/confusion_matrix.png (deflated 15%)\n",
            "  adding: content/PlantVillage-Dataset/runs/classify/train2/val_batch2_pred.jpg (deflated 1%)\n",
            "  adding: content/PlantVillage-Dataset/runs/classify/train2/val_batch0_pred.jpg (deflated 1%)\n",
            "  adding: content/PlantVillage-Dataset/runs/classify/train2/confusion_matrix_normalized.png (deflated 15%)\n",
            "  adding: content/PlantVillage-Dataset/runs/classify/train2/val_batch1_pred.jpg (deflated 1%)\n",
            "  adding: content/PlantVillage-Dataset/runs/classify/train2/val_batch0_labels.jpg (deflated 1%)\n",
            "  adding: content/PlantVillage-Dataset/runs/classify/train2/val_batch1_labels.jpg (deflated 1%)\n",
            "  adding: content/PlantVillage-Dataset/runs/classify/train2/val_batch2_labels.jpg (deflated 1%)\n",
            "  adding: content/PlantVillage-Dataset/runs/classify/train3/ (stored 0%)\n",
            "  adding: content/PlantVillage-Dataset/runs/classify/train3/confusion_matrix.png (deflated 15%)\n",
            "  adding: content/PlantVillage-Dataset/runs/classify/train3/val_batch2_pred.jpg (deflated 1%)\n",
            "  adding: content/PlantVillage-Dataset/runs/classify/train3/val_batch0_pred.jpg (deflated 1%)\n",
            "  adding: content/PlantVillage-Dataset/runs/classify/train3/confusion_matrix_normalized.png (deflated 15%)\n",
            "  adding: content/PlantVillage-Dataset/runs/classify/train3/val_batch1_pred.jpg (deflated 1%)\n",
            "  adding: content/PlantVillage-Dataset/runs/classify/train3/val_batch0_labels.jpg (deflated 1%)\n",
            "  adding: content/PlantVillage-Dataset/runs/classify/train3/val_batch1_labels.jpg (deflated 1%)\n",
            "  adding: content/PlantVillage-Dataset/runs/classify/train3/val_batch2_labels.jpg (deflated 1%)\n",
            "  adding: content/PlantVillage-Dataset/runs/classify/train/ (stored 0%)\n",
            "  adding: content/PlantVillage-Dataset/runs/classify/train/confusion_matrix.png (deflated 15%)\n",
            "  adding: content/PlantVillage-Dataset/runs/classify/train/val_batch2_pred.jpg (deflated 1%)\n",
            "  adding: content/PlantVillage-Dataset/runs/classify/train/train_batch1.jpg (deflated 3%)\n",
            "  adding: content/PlantVillage-Dataset/runs/classify/train/args.yaml (deflated 53%)\n",
            "  adding: content/PlantVillage-Dataset/runs/classify/train/train_batch70562.jpg (deflated 3%)\n",
            "  adding: content/PlantVillage-Dataset/runs/classify/train/train_batch70561.jpg (deflated 2%)\n",
            "  adding: content/PlantVillage-Dataset/runs/classify/train/events.out.tfevents.1740216494.2e5149127d62.561.0 (deflated 90%)\n",
            "  adding: content/PlantVillage-Dataset/runs/classify/train/val_batch0_pred.jpg (deflated 1%)\n",
            "  adding: content/PlantVillage-Dataset/runs/classify/train/results.csv (deflated 66%)\n",
            "  adding: content/PlantVillage-Dataset/runs/classify/train/results.png (deflated 9%)\n",
            "  adding: content/PlantVillage-Dataset/runs/classify/train/confusion_matrix_normalized.png (deflated 15%)\n",
            "  adding: content/PlantVillage-Dataset/runs/classify/train/val_batch1_pred.jpg (deflated 0%)\n",
            "  adding: content/PlantVillage-Dataset/runs/classify/train/train_batch70560.jpg (deflated 2%)\n",
            "  adding: content/PlantVillage-Dataset/runs/classify/train/val_batch0_labels.jpg (deflated 1%)\n",
            "  adding: content/PlantVillage-Dataset/runs/classify/train/train_batch2.jpg (deflated 4%)\n",
            "  adding: content/PlantVillage-Dataset/runs/classify/train/val_batch1_labels.jpg (deflated 0%)\n",
            "  adding: content/PlantVillage-Dataset/runs/classify/train/weights/ (stored 0%)\n",
            "  adding: content/PlantVillage-Dataset/runs/classify/train/weights/last.pt (deflated 10%)\n",
            "  adding: content/PlantVillage-Dataset/runs/classify/train/weights/best.pt (deflated 10%)\n",
            "  adding: content/PlantVillage-Dataset/runs/classify/train/train_batch0.jpg (deflated 2%)\n",
            "  adding: content/PlantVillage-Dataset/runs/classify/train/val_batch2_labels.jpg (deflated 1%)\n"
          ]
        }
      ],
      "source": [
        "!zip -r /content/model.zip /content/PlantVillage-Dataset/runs"
      ]
    },
    {
      "cell_type": "code",
      "execution_count": null,
      "metadata": {
        "colab": {
          "base_uri": "https://localhost:8080/",
          "height": 17
        },
        "id": "IlEwygE44Za5",
        "outputId": "8ecc3ecb-a73d-4ee2-c94c-c4730ed2e18e"
      },
      "outputs": [
        {
          "data": {
            "application/javascript": "\n    async function download(id, filename, size) {\n      if (!google.colab.kernel.accessAllowed) {\n        return;\n      }\n      const div = document.createElement('div');\n      const label = document.createElement('label');\n      label.textContent = `Downloading \"${filename}\": `;\n      div.appendChild(label);\n      const progress = document.createElement('progress');\n      progress.max = size;\n      div.appendChild(progress);\n      document.body.appendChild(div);\n\n      const buffers = [];\n      let downloaded = 0;\n\n      const channel = await google.colab.kernel.comms.open(id);\n      // Send a message to notify the kernel that we're ready.\n      channel.send({})\n\n      for await (const message of channel.messages) {\n        // Send a message to notify the kernel that we're ready.\n        channel.send({})\n        if (message.buffers) {\n          for (const buffer of message.buffers) {\n            buffers.push(buffer);\n            downloaded += buffer.byteLength;\n            progress.value = downloaded;\n          }\n        }\n      }\n      const blob = new Blob(buffers, {type: 'application/binary'});\n      const a = document.createElement('a');\n      a.href = window.URL.createObjectURL(blob);\n      a.download = filename;\n      div.appendChild(a);\n      a.click();\n      div.remove();\n    }\n  ",
            "text/plain": [
              "<IPython.core.display.Javascript object>"
            ]
          },
          "metadata": {},
          "output_type": "display_data"
        },
        {
          "data": {
            "application/javascript": "download(\"download_2d37249d-53e1-43d1-9b6f-97a17f0e87c0\", \"model.zip\", 15934673)",
            "text/plain": [
              "<IPython.core.display.Javascript object>"
            ]
          },
          "metadata": {},
          "output_type": "display_data"
        }
      ],
      "source": [
        "from google.colab import files\n",
        "files.download(\"/content/model.zip\")"
      ]
    },
    {
      "cell_type": "markdown",
      "metadata": {},
      "source": [
        "## F1 Score"
      ]
    },
    {
      "cell_type": "code",
      "execution_count": null,
      "metadata": {
        "colab": {
          "base_uri": "https://localhost:8080/"
        },
        "id": "B7wc5dJJoph3",
        "outputId": "665ff346-dd8b-4dc3-ab8e-4ffdf996ba9f"
      },
      "outputs": [
        {
          "name": "stdout",
          "output_type": "stream",
          "text": [
            "Macro F1-Score: 0.9491\n",
            "Weighted F1-Score: 0.9500\n"
          ]
        }
      ],
      "source": [
        "import numpy as np\n",
        "from sklearn.metrics import f1_score\n",
        "\n",
        "conf_matrix = metrics.confusion_matrix.matrix\n",
        "\n",
        "# Extract tp, fp, fn for each class\n",
        "# conf_matrix[i] is the number of true values of each class predicted as class i\n",
        "tp = np.diag(conf_matrix)\n",
        "fp = np.sum(conf_matrix, axis=1) - TP\n",
        "fn = np.sum(conf_matrix, axis=0) - TP\n",
        "\n",
        "# Compute Precision, Recall, and F1-score per class\n",
        "if (tp + fp) == 0:\n",
        "  precision = 1\n",
        "else:\n",
        "  precision = tp / (tp + fp)\n",
        "\n",
        "if (tp + fn):\n",
        "  recall = tp / (tp + fn)\n",
        "\n",
        "if (precision + recall) == 0:\n",
        "  f1 = 1\n",
        "else:\n",
        "  f1 = 2 * (precision * recall) / (precision + recall)\n",
        "\n",
        "# Compute macro & weighted F1-score\n",
        "macro_f1 = np.mean(f1_per_class)\n",
        "weights = np.sum(conf_matrix, axis=1)  # Number of samples per class\n",
        "weighted_f1 = np.sum(f1_per_class * weights) / np.sum(weights)\n",
        "\n",
        "# Print results\n",
        "print(f\"Macro F1-Score: {macro_f1:.4f}\")\n",
        "print(f\"Weighted F1-Score: {weighted_f1:.4f}\")\n"
      ]
    }
  ],
  "metadata": {
    "accelerator": "GPU",
    "colab": {
      "gpuType": "T4",
      "provenance": []
    },
    "kernelspec": {
      "display_name": "Python 3",
      "name": "python3"
    },
    "language_info": {
      "name": "python"
    }
  },
  "nbformat": 4,
  "nbformat_minor": 0
}
